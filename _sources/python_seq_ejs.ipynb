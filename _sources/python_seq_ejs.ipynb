{
 "cells": [
  {
   "cell_type": "markdown",
   "metadata": {},
   "source": [
    "# Ejercicio con secuencias en python\n",
    "\n",
    "Vamos a utilizar los bucles y condicionales para buscar el codón de inicio de transcripción para el genoma de covid19"
   ]
  },
  {
   "cell_type": "code",
   "execution_count": null,
   "metadata": {},
   "outputs": [],
   "source": [
    "# Define el codón de inicio\n",
    "start_codon = 'AUG'\n",
    "\n",
    "# Escanea la secuencia hasta encontrar el patrón\n",
    "for i in range(len(covid19_seq)):\n",
    "    if covid19_seq[i:i+3] == start_codon:\n",
    "        print('The start codon starts at index', i)\n",
    "        break\n",
    "else:\n",
    "    print('Codon not found in sequence.')"
   ]
  },
  {
   "cell_type": "markdown",
   "metadata": {},
   "source": [
    "Si no lo encotró probablmente es porque faltó un paso intermedio: transcribir el codón de DNA a RNA. Esto lo podemos hacer utilizando la función de biopython ``transcribe()``"
   ]
  },
  {
   "cell_type": "code",
   "execution_count": null,
   "metadata": {},
   "outputs": [],
   "source": [
    "covid_mRNA = covid19_seq.transcribe()"
   ]
  },
  {
   "cell_type": "markdown",
   "metadata": {},
   "source": [
    "<div class=\"alert alert-block alert-info\">\n",
    "<b>Ejercicio</b> Vuelva a correr el script anterior para el RNA mensajero y verifique si la posición indicada si contiene el códon de inicio </div>"
   ]
  },
  {
   "cell_type": "markdown",
   "metadata": {},
   "source": [
    "## Escribir secuencias en un archivo  \n",
    "Con frecuencia estamos interesados en un subconjunto de los genes o proteínas para realizar un análisis a profundidad de ellos. En este caso vamos a seleccionar las glicoproteínas que son aquellas que codifican la espícula. Esta espícula (\"spike\") es la encargada de mediar la entrada del virus hacia el hospedero y tiene una tasa de mutación mas alta que los otros genes, lo que presumiblemente dió origen a cepas mas virulentas (https://en.wikipedia.org/wiki/Coronavirus_spike_protein). Para esto vamos a llamar al archivo de proteínas dentro de una variable. Recordemos que el archivo se puede llamar sin añadir la ruta completa si abrimos python dentro de la carpeta donde se encuentra el archivo. De lo contrario debemos darle la ruta"
   ]
  },
  {
   "cell_type": "code",
   "execution_count": null,
   "metadata": {},
   "outputs": [],
   "source": [
    "from Bio.Seq import Seq\n",
    "from Bio.SeqRecord import SeqRecord\n",
    "\n",
    "prot_file = \"/Users/laura/docencia/eia/bioinfo/clase_python/Sars_cov.prot.fa\"\n",
    "\n",
    "for record in SeqIO.parse(prot_file, \"fasta\"):\n",
    "    if (record.description.split()[9] == \"glycoprotein\"):\n",
    "        print(record)"
   ]
  },
  {
   "cell_type": "markdown",
   "metadata": {},
   "source": [
    "La descripción tiene mucha información importante pero esta no es muy clara, entonces vamos a extraer el fragmento que contiene la función. Para esto dividimos la descripción en items, utilizando la función ``split.()``. Esta función separa una lista en items. Por ejemplo, yo puedo descomponer mi nombre en las letras que lo componen:"
   ]
  },
  {
   "cell_type": "code",
   "execution_count": null,
   "metadata": {},
   "outputs": [],
   "source": [
    "for l in \"laura\":\n",
    "    print(l.split())"
   ]
  },
  {
   "cell_type": "markdown",
   "metadata": {},
   "source": [
    "Asímismo, se puede separar la descripción en las palabras que la componen. "
   ]
  },
  {
   "cell_type": "code",
   "execution_count": null,
   "metadata": {},
   "outputs": [],
   "source": [
    "for record in SeqIO.parse(prot_file, \"fasta\"):\n",
    "    print(record.description.split())"
   ]
  },
  {
   "cell_type": "markdown",
   "metadata": {},
   "source": [
    "y luego le damos el número  del item de interés ``[]`` (es el item 9 pero python comienza a contar desde 0, entonces es el 8) "
   ]
  },
  {
   "cell_type": "code",
   "execution_count": null,
   "metadata": {},
   "outputs": [],
   "source": [
    "from Bio.Seq import Seq\n",
    "from Bio.SeqRecord import SeqRecord\n",
    "\n",
    "for record in SeqIO.parse(prot_file, \"fasta\"):\n",
    "    if (record.description.split()[9] == \"glycoprotein\"):\n",
    "        print(record)"
   ]
  },
  {
   "cell_type": "markdown",
   "metadata": {},
   "source": [
    "Hasta aquí hemos seleccionado las secuencias que contienen el término \"glycoprotein\". Para escribirlas en un archivo en un formato adecuado de secuencias vamos a utilizar la función de biopython  ``Bio.SeqIO.write()`` y a cambiar un poco el estilo. "
   ]
  },
  {
   "cell_type": "code",
   "execution_count": null,
   "metadata": {},
   "outputs": [],
   "source": [
    "glycoproteins = (record for record in SeqIO.parse(prot_file, \"fasta\") if (record.description.split()[9] == \"glycoprotein\"))\n",
    "SeqIO.write(glycoproteins, \"sars_covid19_glycoproteins.fa\", \"fasta\")"
   ]
  },
  {
   "cell_type": "markdown",
   "metadata": {},
   "source": [
    "Donde eperas que esté el archivo? Chequéalo mirando el directorio actual (\"get current working directory\"). Verifica que si se haya generado con el nombre y formatos correctos, y la información que deseamos que contenga. "
   ]
  },
  {
   "cell_type": "code",
   "execution_count": null,
   "metadata": {},
   "outputs": [],
   "source": [
    "import os\n",
    "\n",
    "os.getcwd()\n",
    "os.listdir()"
   ]
  },
  {
   "cell_type": "markdown",
   "metadata": {},
   "source": [
    "Por último, vamos a escribir los comando que utilizamos en un script de python (con extensión \".py\") para dejar registro de lo que hicimos y pueda ser repetible"
   ]
  },
  {
   "cell_type": "code",
   "execution_count": null,
   "metadata": {},
   "outputs": [],
   "source": [
    "#!/usr/local/bin/\n",
    "\n",
    "# Script por Laura Salazar Jaramillo\n",
    "# Genera un subconjunto de glicoproteinas de SARS-covid 19\n",
    "\n",
    "# Importamos las librerías necesarias\n",
    "import os\n",
    "import sys\n",
    "\n",
    "import Bio\n",
    "from Bio import SeqIO\n",
    "from Bio.Seq import Seq\n",
    "\n",
    "# Archivos de entrada (inputs)\n",
    "dna_file = \"/home/lsalazarj/bicomp2024/Sars_cov.dna.fa\"\n",
    "prot_file = \"Sars_cov.prot.fa\"\n",
    "\n",
    "\n",
    "# Listamos el tamano del genoma\n",
    "for record in SeqIO.parse(dna_file, \"fasta\"):\n",
    "    print(\"La longitud en nc del genoma es:\",len(record.seq))\n",
    "\n",
    "# Listamos los id y longitudes de las proteínas\n",
    "for record in SeqIO.parse(prot_file, \"fasta\"):\n",
    "    print(record.id,len(record.seq),record.description.split()[9])\n",
    "\n",
    "# Seleccionamos las glicoproteínas y las guardamos en un archivo aparte\n",
    "glycoproteins = (record for record in SeqIO.parse(prot_file, \"fasta\") if (record.description.split()[9] == \"glycoprotein\"))\n",
    "SeqIO.write(glycoproteins, \"sars_covid19_glycoproteins.fa\", \"fasta\")"
   ]
  },
  {
   "cell_type": "markdown",
   "metadata": {},
   "source": [
    "Este script se puede ejecutar en la terminal escribiendo los comandos"
   ]
  },
  {
   "cell_type": "code",
   "execution_count": null,
   "metadata": {
    "vscode": {
     "languageId": "shellscript"
    }
   },
   "outputs": [],
   "source": [
    "python glycoproteins.py > glycoproteins.out"
   ]
  },
  {
   "cell_type": "markdown",
   "metadata": {},
   "source": [
    "Ahora vamos a trabajar con secuencias de Citocromo B desde: https://raw.githubusercontent.com/lauraalazar/BiologiaComputacional/main/CytBDNA.txt\n",
    "\n",
    "1. Cree una carpeta que se llame citB_seqs\n",
    "2. Entre a la carpeta\n",
    "3. Copie o descargue desde allí las secuencias de Citocromo\n",
    "4. Active los entornos de conda\n",
    "5. Comience Python\n",
    "6. Llame las librerías\n",
    "7. Defina los archivos input\n",
    "8. Realice un loop sobre las secuencias de DNA para imprimir los nombres de los ID y los tamaños del gen: qué tanto difieren?\n",
    "9. Ahora viene el reto de la clase: Utilice las secuencias de DNA para hallar la secuencia de amino ácidos. \n",
    "11. Compare las secuencias obtenidas con las de proteínas: https://github.com/lauraalazar/BiologiaComputacional/blob/main/CytBProt.txt\n",
    "12. Utilice la sección 3.8 del tutorial de [Biopython](https://biopython.org/DIST/docs/tutorial/Tutorial.html) y repita el punto 9"
   ]
  }
 ],
 "metadata": {
  "language_info": {
   "name": "python"
  }
 },
 "nbformat": 4,
 "nbformat_minor": 2
}
