{
 "cells": [
  {
   "cell_type": "markdown",
   "metadata": {},
   "source": [
    "# Ejercicio con secuencias\n",
    "\n",
    "Vamos a utilizar las secuencias de Citocromo B descargadas previamente para repasar el manejo de secuencias utilizando python. \n",
    "1. Cree una carpeta que se llame citB_seqs\n",
    "2. Entre a la carpeta\n",
    "3. Copie desde allí las secuencias de Citocromo (o descárguelas nuevamente)\n",
    "4. Active los entornos de conda\n",
    "5. Comience Python\n",
    "6. Llame las librerías\n",
    "7. Defina los archivos input\n",
    "8. Realice un loop sobre las secuencias de DNA para imprimir los nombres de los ID y los tamaños del gen: qué tanto difieren?\n",
    "9. Ahora viene el reto de la clase: Utilice las secuencias de DNA para hallar la secuencia de amino ácids. \n",
    "11. Compare las secuencias obtenidas con las de proteínas: https://github.com/lauraalazar/BiologiaComputacional/blob/main/CytBProt.txt\n",
    "12. Utilice la sección 3.8 del tutorial de [Biopython](https://biopython.org/DIST/docs/tutorial/Tutorial.html) y repita el punto 9"
   ]
  }
 ],
 "metadata": {
  "language_info": {
   "name": "python"
  }
 },
 "nbformat": 4,
 "nbformat_minor": 2
}
