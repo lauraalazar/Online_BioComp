{
 "cells": [
  {
   "cell_type": "markdown",
   "metadata": {},
   "source": [
    "# Ejercicio con secuencias en python\n",
    "\n",
    "Vamos a utilizar los bucles y condicionales para buscar el codón de inicio de transcripción para el genoma de covid19"
   ]
  },
  {
   "cell_type": "code",
   "execution_count": null,
   "metadata": {},
   "outputs": [],
   "source": [
    "# Define el codón de inicio\n",
    "start_codon = 'AUG'\n",
    "\n",
    "# Escanea la secuencia hasta encontrar el patrón\n",
    "for i in range(len(covid19_seq)):\n",
    "    if covid19_seq[i:i+3] == start_codon:\n",
    "        print('The start codon starts at index', i)\n",
    "        break\n",
    "else:\n",
    "    print('Codon not found in sequence.')"
   ]
  },
  {
   "cell_type": "markdown",
   "metadata": {},
   "source": [
    "Si no lo encotró probablmente es porque faltó un paso intermedio: transcribir el codón de DNA a RNA. Esto lo podemos hacer utilizando la función de biopython ``transcribe()``"
   ]
  },
  {
   "cell_type": "code",
   "execution_count": null,
   "metadata": {},
   "outputs": [],
   "source": [
    "covid_mRNA = covid19_seq.transcribe()"
   ]
  },
  {
   "cell_type": "markdown",
   "metadata": {},
   "source": [
    "<div class=\"alert alert-block alert-info\">\n",
    "<b>Ejercicio</b> Vuelva a correr el script anterior para el RNA mensajero y verifique si la posición indicada si contiene el códon de inicio </div>"
   ]
  },
  {
   "cell_type": "markdown",
   "metadata": {},
   "source": [
    "Ahora vamos a trabajar con secuencias de Citocromo B desde: https://raw.githubusercontent.com/lauraalazar/BiologiaComputacional/main/CytBDNA.txt\n",
    "\n",
    "1. Cree una carpeta que se llame citB_seqs\n",
    "2. Entre a la carpeta\n",
    "3. Copie o descargue desde allí las secuencias de Citocromo\n",
    "4. Active los entornos de conda\n",
    "5. Comience Python\n",
    "6. Llame las librerías\n",
    "7. Defina los archivos input\n",
    "8. Realice un loop sobre las secuencias de DNA para imprimir los nombres de los ID y los tamaños del gen: qué tanto difieren?\n",
    "9. Ahora viene el reto de la clase: Utilice las secuencias de DNA para hallar la secuencia de amino ácidos. \n",
    "11. Compare las secuencias obtenidas con las de proteínas: https://github.com/lauraalazar/BiologiaComputacional/blob/main/CytBProt.txt\n",
    "12. Utilice la sección 3.8 del tutorial de [Biopython](https://biopython.org/DIST/docs/tutorial/Tutorial.html) y repita el punto 9"
   ]
  }
 ],
 "metadata": {
  "language_info": {
   "name": "python"
  }
 },
 "nbformat": 4,
 "nbformat_minor": 2
}
