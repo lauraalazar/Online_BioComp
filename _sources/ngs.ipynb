{
 "cells": [
  {
   "attachments": {},
   "cell_type": "markdown",
   "metadata": {},
   "source": [
    "# Biología como una ciencia data-intensiva\n",
    "\n",
    "Gracias a los avances en tconología *high-throughput* las secuencias y genomas de miles de organismos están disponible. Desde virus de unos miles de pares de bases hasta plantas con billones de pb. Asimismo, los metagenomas de comunidades de bacterias y microorganismos están siendo secuenciados a gran escala. Pero las secuencias no son los únicos datos disponibles, existen otros tipos de datos que están expandiendo la dimensión de información en biología. A medida que avanza la colección de datos, es imprescindible desarrollar la habilidad de interpretarlos y combinarlos para proponer nuevas hipótesis. El reto actual no es el de adquirir los datos sino el de analizarlos e interpretarlos para obtener conocimiento sobre los sistemas biológicos. \n",
    "\n",
    "En la sesión de hoy tendremos una introducción de la secuenciación *high-throughput* que iniciaron este \"big-bang\" de datos. \n",
    "\n",
    "\n",
    "# Tipos de secuenciación\n",
    "\n",
    "<img src=\"sanger_ngs.jpeg\"/>\n",
    "\n",
    "- **Sanger**: terminación de reacción de la DNA polimerasa con marcaje (radiactivo o fluorescente)\n",
    "https://www.youtube.com/watch?v=KTstRrDTmWI\n",
    "- **High-throughput (Next Generation Sequencing)**:\n",
    "https://www.youtube.com/watch?v=jFCD8Q6qSTM&list=PLK1xpTaA9PuZqvDpaEYrA5d8kbmxqjXoJ&index=8\n",
    "    - **Illumina**: fragmetación y  marcaje luminiscente\n",
    "    - **Nanopore**: Cambios en corriente eléctrica de nuleótidos a medida que pasan por un *nanopore* de prtoeína protein nanopore"
   ]
  },
  {
   "cell_type": "markdown",
   "metadata": {},
   "source": [
    "<img src=\"developments_in_high_throughput_sequencing.jpg\"/>"
   ]
  },
  {
   "cell_type": "markdown",
   "metadata": {},
   "source": [
    "## Illumina\n",
    "Es la tecnología más usada en los últimos años\n",
    "\n",
    "<img src=\"Cluster_Generation.png\"/>"
   ]
  },
  {
   "cell_type": "markdown",
   "metadata": {},
   "source": [
    "## Secuencias crudas de SARS-CoV\n",
    "\n",
    "Hasta ahora hemos descargado y analizado secuencias que ya están ensambladas o \"limpias\", es decir que ya han pasado por filtros de calidad y se ha establecido un *consenso* para la secuencia. Sin embargo, así no es como salen del secuenciador. Cada vez que se realiza una secuenciación y se publica su análisis, las secuencias \"crudas\" se depositan en un repositorio. Hoy vamos a descargar las secuencias de una de las primeras variantes de Omicrón secuenciadas y depositadas en el European Nucleotide Archive (ENA) de la siguiente dirección URL:"
   ]
  },
  {
   "cell_type": "markdown",
   "metadata": {},
   "source": [
    "ftp://ftp.sra.ebi.ac.uk/vol1/fastq/SRR170/002/SRR17054502/SRR17054502_1.fastq.gz\n",
    "ftp://ftp.sra.ebi.ac.uk/vol1/fastq/SRR170/002/SRR17054502/SRR17054502_2.fastq.gz"
   ]
  },
  {
   "cell_type": "markdown",
   "metadata": {},
   "source": [
    "Cuantas lecturas tiene cada archivo? Por qué cree que hay dos archivos? Cual es el identificador y que significa el \"_1\" y \"_2\"?"
   ]
  },
  {
   "cell_type": "markdown",
   "metadata": {},
   "source": [
    "Los archivos con fromato FASTQ son una extensión del formato FASTA donde cada lectura (\"read\") está compuesta por múltiples líneas"
   ]
  },
  {
   "cell_type": "markdown",
   "metadata": {},
   "source": [
    "Descargue las secuencias, descomprímalas y explore el archivo (recuerde que si trabaja en Apolo, esto se debe realizar vía un script de Slurm). Cuantas lecturas contiene cada archivo? Cuantas líneas contiene cada lectura y en cual de ellas está la secuencia?"
   ]
  },
  {
   "cell_type": "markdown",
   "metadata": {},
   "source": [
    "1. la primera línea comienza con el símbolo “@”, el identificador y la lectura. Note que como son pares de lecturas, los prefijos de id son iguales en las lecturas, pero terminan con  “/1” and “/2”.\n",
    "2. la segunda línea contiene la secuencia de nucleótidos.\n",
    "3. Una linea con el símbolo “+” indica el final de los nucleótidos. \n",
    "4. La cuarta línea contienen una colección de símbolos que representan el *Phred quality score*. El valor n-avo de calidad corresponde al n-avo de la secuencia."
   ]
  },
  {
   "cell_type": "markdown",
   "metadata": {},
   "source": [
    "### Calidad de las secuencias\n",
    "\n",
    "[**Phred Quality Score**](https://medium.com/@robertopreste/phred-quality-score-2837415f0af): \n",
    "Para determinar la calidad de secuenciación se utiliza este índice. A cada base secuenciada se le asigna un score de calidad *Q* basado en la probabilidad (en escala logarítmica) de que la base sea correcta. \n",
    "\n",
    "Q = -10 log10(p) \n",
    "\n",
    "Al índice Q se le asigna un símbolo ASCII. Por ejemplo, si la probabilidad de error es 1 en 1000 nucleótidos, p = 0.001, entonces log10(0.001) es -3, y entonces Q = 30. El símbolo ASCII correspondiente es “?”. En resúmen, mientras mas bajo *p*, mas alto *Q*. \n"
   ]
  },
  {
   "cell_type": "markdown",
   "metadata": {},
   "source": [
    "## FASTQC\n",
    "\n",
    "(FastQC)[https://www.bioinformatics.babraham.ac.uk/projects/fastqc/} es una herramienta que permite visualizar varias métricas para el control de calidad de secuencias. Se puede instalar en el computador personal o generar un ambiente en Apolo para su uso "
   ]
  },
  {
   "cell_type": "code",
   "execution_count": null,
   "metadata": {
    "vscode": {
     "languageId": "shellscript"
    }
   },
   "outputs": [],
   "source": [
    "ssh lsalazarj@apolo.eafit.edu.co\n",
    "conda create --name fastqc\n",
    "conda activate fastqc\n",
    "conda install -c bioconda fastqc"
   ]
  },
  {
   "cell_type": "markdown",
   "metadata": {},
   "source": [
    "Una vez instalado fastqc, se puede correr con el comando (recuerde que en Apolo este comando debe estar dentro de un script slurm)"
   ]
  },
  {
   "cell_type": "code",
   "execution_count": null,
   "metadata": {
    "vscode": {
     "languageId": "shellscript"
    }
   },
   "outputs": [],
   "source": [
    "fastqc SRR17054502_1.fastq "
   ]
  },
  {
   "cell_type": "markdown",
   "metadata": {},
   "source": [
    "Esto genera un archivo SRR17054502_1_fastqc.html que se puede abrir en un Browser (si lo corrió en Apolo, primero debe copiarlo a un directorio local)"
   ]
  },
  {
   "cell_type": "markdown",
   "metadata": {},
   "source": [
    "Como se ve la calidad de las secuencias? Por qué disminuyen hacia el final? "
   ]
  },
  {
   "cell_type": "markdown",
   "metadata": {},
   "source": [
    "ftp://ftp.sra.ebi.ac.uk/vol1/fastq/SRR170/039/SRR17051939/SRR17051939_1.fastq.gz\n",
    "ftp://ftp.sra.ebi.ac.uk/vol1/fastq/SRR170/039/SRR17051939/SRR17051939_2.fastq.gz"
   ]
  },
  {
   "attachments": {},
   "cell_type": "markdown",
   "metadata": {},
   "source": [
    "<div class=\"alert alert-block alert-info\">\n",
    "<b>Ejercicio Evaluable</b> \n",
    "\n",
    "  1) Entre a https://merenlab.org/data/sar11-saavs/files/ftp-links-for-raw-data-files.txt \n",
    "  y descargue un par cualquiera de secuencias correspondientes a un ID específico\n",
    "  2) Realice una evaluación de la calidad de las secuencias usando FastQC.\n",
    "  3) Suba el reporte de FastQC\n",
    "  </div>"
   ]
  }
 ],
 "metadata": {
  "kernelspec": {
   "display_name": "Python 3 (ipykernel)",
   "language": "python",
   "name": "python3"
  },
  "language_info": {
   "codemirror_mode": {
    "name": "ipython",
    "version": 3
   },
   "file_extension": ".py",
   "mimetype": "text/x-python",
   "name": "python",
   "nbconvert_exporter": "python",
   "pygments_lexer": "ipython3",
   "version": "3.8.1"
  },
  "widgets": {
   "application/vnd.jupyter.widget-state+json": {
    "state": {},
    "version_major": 2,
    "version_minor": 0
   }
  }
 },
 "nbformat": 4,
 "nbformat_minor": 4
}
