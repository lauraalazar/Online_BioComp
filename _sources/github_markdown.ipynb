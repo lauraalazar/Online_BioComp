{
 "cells": [
  {
   "attachments": {},
   "cell_type": "markdown",
   "metadata": {},
   "source": [
    "# Introducción a Github\n",
    "\n",
    "[GitHub](https://github.com) es una plataforma muy útil donde se puede almacenar coódigo, compartirlo, revisarlo, actualizarlo y en general colaborar con programas y códigos. Para hacer uso de esta plataforma hay que registrarse con un email:\n",
    "- Entre a la página web\n",
    "- Haga Click en \"Sign Up\"\n",
    "- Suministre un correo electrónico y un password\n",
    "\n",
    "Nota: Si ya tiene cuenta en GitHub, tan solo click en Sign in y acceda con su correo y contraseña"
   ]
  },
  {
   "attachments": {},
   "cell_type": "markdown",
   "metadata": {},
   "source": [
    "## Crear un repositorio\n",
    "\n",
    "Un repositorio es un conjunto de archivos que hacen parte de un proyecto. Por ejemplo, el conjunto de datos que acompaña el estudio sobre RNAseq que hemos utilizado como ejemplo está alojado en https://github.com/lauraalazar/RNAseq-Drosophila-parasitoids. \n",
    "Un repositorio permite compartir los archivos del proyecto, actualizarlos y guardar versiones pasadas. También permite que otros colaboren de forma sistemática y organizada. Una vez hagas el registro, recibirá un email para entrar a su cuenta de GitHub\n"
   ]
  },
  {
   "attachments": {},
   "cell_type": "markdown",
   "metadata": {},
   "source": [
    "<img src=\"github_newrepo.png\" />"
   ]
  },
  {
   "attachments": {},
   "cell_type": "markdown",
   "metadata": {},
   "source": [
    "- Entrar a la cuenta con el email y clave registradas\n",
    "- Hacer click en **+** y **New repository**\n",
    "- Darle un nombre al repositorio. Ej, proyecto_biocomp\n",
    "- Hacer una breve descripción de lo que se trata. Ej: proyecto para el curso de biología computacional\n",
    "- Dar click en **Create repository**\n",
    "- Darle click en **Add file**\n",
    "- Arrastrar o subir el archivo que desea compartir\n",
    "- Escribir un mensaje describiendo el contenido de la carga en el campo de comentarios\n",
    "- Dar click en **Commit changes** para completar la carga"
   ]
  },
  {
   "cell_type": "markdown",
   "metadata": {},
   "source": [
    "## GitHub local\n",
    "\n",
    "Una de las herramientas más interesantes con gitHub es poder **clonar** repositorios de otros usuarios y mantener actualizados los repositorios personales. Para esto se puede instalar gitHub de manera [local](https://git-scm.com/downloads y sincronizar con la cuenta personal). Para hacer esto es necesario:\n",
    "- Configurar el usuario y correo para correrlo desde la terminal"
   ]
  },
  {
   "cell_type": "code",
   "execution_count": null,
   "metadata": {
    "vscode": {
     "languageId": "shellscript"
    }
   },
   "outputs": [],
   "source": [
    "git config --global user.name \"Mona Lisa\"\n",
    "git config --global user.email \"email@example.com\""
   ]
  },
  {
   "cell_type": "markdown",
   "metadata": {},
   "source": [
    "Al conectar el Git local con GitHub donde se pedirá el password https://docs.github.com/en/get-started/getting-started-with-git/caching-your-github-credentials-in-git"
   ]
  },
  {
   "attachments": {},
   "cell_type": "markdown",
   "metadata": {},
   "source": [
    "## Clone\n",
    "\n",
    "Esta función le permitirá bajar al computador local la totalidad del repositorio de interés. Es importante descargarlo en una carpeta conocida ya que luego debemos volver a acceder a ella, lo cual se puede hacer normalmente como a cualquier directorio\n",
    "\n",
    "Cree o entre a un directorio para clonar el repositorio y escriba el comando para clonar desde una terminal de su computador"
   ]
  },
  {
   "cell_type": "code",
   "execution_count": null,
   "metadata": {
    "vscode": {
     "languageId": "shellscript"
    }
   },
   "outputs": [],
   "source": [
    "cd dir_donde_clonar_repo\n",
    "git clone https://github.com/lauraalazar/Markdown_Ejemplo.git"
   ]
  },
  {
   "attachments": {},
   "cell_type": "markdown",
   "metadata": {},
   "source": [
    "dentro del directorio donde se ejecutó el comando debe haber un directorio llamado Markdown_Ejemplo. Ahora vamos a generar un script local y luego agregarlo a esta carpeta"
   ]
  },
  {
   "cell_type": "markdown",
   "metadata": {},
   "source": [
    "# R Markdown\n",
    "\n",
    "Abra RStudio y cree un archivo R Markdown file\n",
    "\n",
    "<img src=\"markdown1.png\" />"
   ]
  },
  {
   "cell_type": "markdown",
   "metadata": {},
   "source": [
    "Dele un título y autor y escoja la opción \"html\" (esto se puede cambiar luego para generar un pdf, pro ejemplo)\n",
    "\n",
    "<img src=\"markdown2.png\" />"
   ]
  },
  {
   "cell_type": "markdown",
   "metadata": {},
   "source": [
    "Inmediatamente se genera un archivo plantilla con comandos de ejemplo que después se pueden editar y con una página muy completa para encontrar información https://rmarkdown.rstudio.com/. Guarde este archivo en el directorio donde clonó el repositorio. El objetivo es que este ejemplo posteriormente se subirá en este repositorio. \n",
    "\n",
    "Ahora de clic en ``knitr`` para generar el output en html\n",
    "\n",
    "<img src=\"markdown3.png\" />"
   ]
  },
  {
   "cell_type": "markdown",
   "metadata": {},
   "source": [
    "Ahora entre al directorio del repositorio, donde debe aparecer el archivo html que se acaba de crear. Este archivo aún no aparece en github. Para incluirlo vamos a hacer un \"Push\""
   ]
  },
  {
   "attachments": {},
   "cell_type": "markdown",
   "metadata": {},
   "source": [
    "## Push\n",
    "Esta función le permitirá subir archivos a un repositorio clonado en el computador local. Aquí se deben seguir ciertos pasos, todos precedidos por el comando ``git``:\n",
    "- 1. El status del directorio ``status: si ha habido clambios\n",
    "- 2. Añadimos los nuevos archivos o directorios (o todo ``-A``) ``add``\n",
    "- 3. Se comprometen los cambios con ``commit`` y se añade un mensaje que acompaña al cambio\n",
    "- 4. Se actualiza el repositorio ``push``"
   ]
  },
  {
   "cell_type": "code",
   "execution_count": null,
   "metadata": {
    "vscode": {
     "languageId": "shellscript"
    }
   },
   "outputs": [],
   "source": [
    "cd /dir_donde_clono_repo/Markdown_Ejempl/\n",
    "git status\n",
    "git add -A\n",
    "git status\n",
    "git commit -m \"adicion de markdown\"\n",
    "git push"
   ]
  },
  {
   "cell_type": "markdown",
   "metadata": {},
   "source": [
    "Ahora refresque la página de github en la web y verá los archivos añadidos. \n",
    "Para visualizar el html en formato amigable desde github, vaya a la página del archivo:\n",
    "- 1. Abra el GitHub que contiene el html que quiere visualizar en el browser\n",
    "- 2. Click en el archivo html\n",
    "- 3. De click en el botón ``…`` de más accionesy escoja \"copy permanent link\". \n",
    "- 4. Vaya a Raw.githack.com y pegue el link en el campo de input\n",
    "Step 5: Copy the URL in the production field and paste it into the browser\n",
    "\n",
    "https://www.geeksforgeeks.org/how-to-render-github-html-code-in-browser-without-downloading/"
   ]
  },
  {
   "cell_type": "markdown",
   "metadata": {},
   "source": [
    "# Python Notebook Markdown\n",
    "\n",
    "Entre a https://jupyter.org/try-jupyter/lab/index.html. El archivo \"Intro.ipynb\" contiene un ejemplo completo de los comandos y el formato para escribir texto, formulas, comandos y gráficos. \n",
    "\n",
    "Para crear un nuevo notebook de click en la pestaña adyacente con un \"+\". Para modificar el nombre del proyecto, de click derecho y \"rename\". Para entrar en modo de texto, despliegue la flecha hacia abajo y escoja \"Markdown\". Aquí puede escribir el título principal (predecedido por \"#\"). Para correr y visualizar \n",
    "\n",
    "Un fragmento de código se puede correr entrando en modo \"Code\" (desplegando la pestaña con flecha hacia abajo). Esto indica que este fragmento (\"chunk\")\n",
    "es ejecutable. Para ejecutarlo, de click en el triángulo.\n",
    "\n",
    "<img src=\"jupyter.png\" />"
   ]
  },
  {
   "cell_type": "markdown",
   "metadata": {},
   "source": [
    "Finalmente, puede descargar este notebook y compartirlo vía GitHub para colaborar con sus compañeros"
   ]
  },
  {
   "cell_type": "markdown",
   "metadata": {},
   "source": [
    "<div class=\"alert alert-block alert-info\">\n",
    "<b>Proyecto</b> \n",
    "\n",
    "El proyecto se podrá realizar en parejas o máximo 3 personas. La forma de entrega será en formato artículo: \n",
    "  1) Introducción: planteamiento de un problema o motivación sobre secuencias, una predicción o anotación de una proteína o análisis filogenético\n",
    "  2) Metodología: descripción de bases de datos consultadas, comandos, programas (y versiones) utilizados\n",
    "  3) Resultados: gráficas, tablas y descripciones\n",
    "  4) Discusión: respecto a la motivación o planteamiento del problema, donde se ubican sus resultados? Cuales fueron los nuevos a prendizajes y limitaciones encontradas? Puede proponer formas de avanzar en este tema?\n",
    "  5) Bibliografía\n",
    "  </div>"
   ]
  },
  {
   "cell_type": "markdown",
   "metadata": {},
   "source": [
    "# Bases de Datos mas usadas\n",
    "\n",
    "1. Refseq (http://www.ncbi.nlm.nih.gov/refseq) is a database of genome sequences that contains the high-quality genome sequences of important reference species like Homo sapiens and Escherichia coli. Istrucciones correrlo local: https://ncbi.github.io/magicblast/cook/blastdb.html\n",
    "2. The largest databases of nucleotide sequences (genes, genomes, and sequence fragments) are those of the three partners of the International Nucleotide Sequence Database Collaboration (INSDC) that serve three corners of the world: the European Bioinformatics Institute of the European Molecular Biology Laboratory (EBI-EMBL, http://www.ebi.ac.uk/services), Genbank at the National Center for Biotechnology Information (NCBI, http://www.ncbi.nlm.nih.gov/genbank), and the DNA Data Bank of Japan (DDBJ, http://www.ddbj.nig.ac.jp). The data in these databases is mirrored, and in 2014 consisted of over 654 billion nucleotides in sequences from from over 280 thousand formally described species (Benson et al. 2014).\n",
    "3. The raw output of DNA sequencing machines consists of vast datasets of unannotated reads that are stored in repositories like the European Nucleotide Archive (ENA, http://www.ebi.ac.uk/ENA). Researchers have often only analyzed one aspect of these datasets, so a lot remains to be discovered by so-called “data recycling”.\n",
    "4. The UniProt KnowledgeBase (http://www.uniprot.org) contains protein sequences together with their functional annotation. EggNOG (http://eggnog.embl.de) and Pfam (http://pfam.xfam.org) are also databases of proteins that are grouped in protein families, and contain multiple sequence alignments of each protein family. EggNOG groups the proteins according to their family tree into orthologous groups in a wide range of organisms (see Section 4.5).\n",
    "5. Transcription factor binding sites can be found in JASPAR (http://jaspar.genereg.net).\n",
    "6. The Protein Data Bank (PDB, http://www.rcsb.org/pdb) contains information about the\n",
    "three-dimensional structure of proteins.\n",
    "7. The Kyoto Encyclopedia of Genes and Genomes (KEGG, http://www.genome.jp/kegg)\n",
    "contains information about groups of proteins that work together in a biological system,\n",
    "for example in metabolic pathways.\n",
    "8. The NCBI Taxonomy database (http://www.ncbi.nlm.nih.gov/Taxonomy) contains information about the taxonomy of all organisms from viruses to humans."
   ]
  }
 ],
 "metadata": {
  "kernelspec": {
   "display_name": "Python 3 (ipykernel)",
   "language": "python",
   "name": "python3"
  },
  "language_info": {
   "codemirror_mode": {
    "name": "ipython",
    "version": 3
   },
   "file_extension": ".py",
   "mimetype": "text/x-python",
   "name": "python",
   "nbconvert_exporter": "python",
   "pygments_lexer": "ipython3",
   "version": "3.8.1"
  },
  "widgets": {
   "application/vnd.jupyter.widget-state+json": {
    "state": {},
    "version_major": 2,
    "version_minor": 0
   }
  }
 },
 "nbformat": 4,
 "nbformat_minor": 4
}
