{
 "cells": [
  {
   "cell_type": "markdown",
   "metadata": {},
   "source": [
    "# Manejo de Secuencias con python\n",
    "\n",
    "Una vez instalados python y biopython, vamos a utilizarlos para manejar las secuencias (también puede consultar el wiki de [biopython](https://biopython.org/wiki/Seq)). En python, un texto es una secuencia de cadena literal (*string*) y se puede manipular fácilmente, entonces para comenzar, vamos utilizar algunos de los ejemplos de la introducción a linux para entender cómo hacerlos con python. Los primeros ejemplos simples no requieren de librerías adicionales, funcionan con los comando básicos de python. Para esto entonces habra python (en su propio computador o en Apolo)"
   ]
  },
  {
   "cell_type": "code",
   "execution_count": null,
   "metadata": {
    "vscode": {
     "languageId": "shellscript"
    }
   },
   "outputs": [],
   "source": [
    "# En la terminal\n",
    "python"
   ]
  },
  {
   "cell_type": "code",
   "execution_count": null,
   "metadata": {},
   "outputs": [],
   "source": [
    "# Dentro de python\n",
    "# El comando print imprime el texto entre comillas\n",
    "print(\"Hello world!\")"
   ]
  },
  {
   "cell_type": "code",
   "execution_count": null,
   "metadata": {},
   "outputs": [],
   "source": [
    "# El mismo resultado se obtiene sumando las palabras y concatenando el texto\n",
    "helloworld = 'Hello, ' + 'world!'\n",
    "print(helloworld)"
   ]
  },
  {
   "cell_type": "markdown",
   "metadata": {},
   "source": [
    "Como este texto es una lista ordenada de items, también puedo hallar la letra en una posición específica"
   ]
  },
  {
   "cell_type": "code",
   "execution_count": null,
   "metadata": {},
   "outputs": [],
   "source": [
    "# Imprime la primera posición de la lista (que en python compienza en 0)\n",
    "print(helloworld[0])\n",
    "\n",
    "# Imprime la segunda posición de la lista \n",
    "print(helloworld[1])\n",
    "\n",
    "# Imprime la tercera posición de la lista \n",
    "print(helloworld[2])"
   ]
  },
  {
   "cell_type": "markdown",
   "metadata": {},
   "source": [
    "El contrario de concatenar un texto es dividirlo entre sus componentes. Para esto se utiliza la función ``split()``. Esta función separa una lista en items."
   ]
  },
  {
   "cell_type": "code",
   "execution_count": null,
   "metadata": {},
   "outputs": [],
   "source": [
    "# Divida el texto en sus items\n",
    "print(helloworld.split())"
   ]
  },
  {
   "cell_type": "markdown",
   "metadata": {},
   "source": [
    "La función ``len()`` puede dar la longitud de un texto, como la de una lista. Compare, por ejemplo, el resultado de los siguientes comandos para entender qué los hace diferentes."
   ]
  },
  {
   "cell_type": "code",
   "execution_count": null,
   "metadata": {},
   "outputs": [],
   "source": [
    "len(helloworld)\n",
    "len(helloworld.split())"
   ]
  },
  {
   "cell_type": "markdown",
   "metadata": {},
   "source": [
    "Asímismo, los condicionales y bucles funcionan similar que en la terminal. Por ejemplo"
   ]
  },
  {
   "cell_type": "code",
   "execution_count": null,
   "metadata": {},
   "outputs": [],
   "source": [
    "## Condicionales lógicos\n",
    "5 == 5\n",
    "5 == 4\n",
    "4 < 5\n",
    "\n",
    "# El mismo ejemplo de la terminal de imprimir los número de 1-10 con for loop\n",
    "for i in range(1,10):\n",
    "    print(i)\n",
    "\n",
    "# El mismo ejemplo de la terminal de imprimir los número de 1-10 con while loop\n",
    "i = 1 \n",
    "while i<10:\n",
    "    print(i)\n",
    "    i += 1"
   ]
  },
  {
   "cell_type": "markdown",
   "metadata": {},
   "source": [
    "Ya que un genoma es una secuencia de texto, se puede manejar de forma similar. Para facilitar el código utilizamos la librería de Biopython que ya tiene implementadas funciones específicas para secuencias. \n",
    "\n",
    "Una vez dentro de python (y cada vez que ingresamos) debemos volver a llamar las librería y definir las variables. \n",
    "Cada vez que entramos a la terminal debemos activa el entorno de conda que creamos.\n",
    "\n",
    "Para esta sección, entre a Apolo vía ssh o putty (previa conexión a Global Protect) y active el entorno virtual que contiene las librerías de Biopython"
   ]
  },
  {
   "cell_type": "code",
   "execution_count": null,
   "metadata": {
    "vscode": {
     "languageId": "shellscript"
    }
   },
   "outputs": [],
   "source": [
    "ssh lsalazarj@apolo.eafit.edu.co"
   ]
  },
  {
   "cell_type": "code",
   "execution_count": null,
   "metadata": {
    "vscode": {
     "languageId": "shellscript"
    }
   },
   "outputs": [],
   "source": [
    "#OJO: Su entorno virtual puede llamarse diferente\n",
    "source activate python3.9\n",
    "python"
   ]
  },
  {
   "cell_type": "markdown",
   "metadata": {},
   "source": [
    "Vamos a utilizar los mismos comandos para manejar texto pero ahora utilizando secuencias"
   ]
  },
  {
   "cell_type": "code",
   "execution_count": null,
   "metadata": {},
   "outputs": [],
   "source": [
    "import Bio\n",
    "from Bio.SeqRecord import SeqRecord\n",
    "from Bio import SeqIO\n",
    "\n",
    "# define una variable para abrir el archivo fasta como input\n",
    "# recuerde que si abre python en otro directorio, debe dar la ruta completa donde está el archivo\n",
    "dna_file = SeqIO.read('Sars_cov.dna.fa', \"fasta\")\n",
    "\n",
    "# define una variable para la secuencia completa del covid\n",
    "covid19_seq = dna_file.seq\n",
    "\n",
    "# cuenta la longitud del genoma de covid\n",
    "print(f'El genoma del virus que causa Covid-19 (SARS-CoV-2) consiste de {len(covid19_seq)} bases.')"
   ]
  },
  {
   "cell_type": "markdown",
   "metadata": {},
   "source": [
    "El comando ``print`` imprime en la pantalla el texto literal (entre comillas '') y la función ``len()`` con el parámetro ``covid19_seq`` que definimos anteriormente. \n",
    "La ``f`` dentro de print es un prefijo que formatea la cadena literal (para más [información](https://docs.python.org/es/3/tutorial/inputoutput.html])).\n",
    "\n",
    "En este caso nos da la longitud del genoma de covid que es de 29903 (el genoma humano está en la escala de miles de millones ó GB).\n",
    "\n",
    "La variable ``covid19_seq`` es una lista ordenada de bases (string), es decir que la letra de cada posición se puede saber por su **índice**"
   ]
  },
  {
   "cell_type": "code",
   "execution_count": null,
   "metadata": {},
   "outputs": [],
   "source": [
    "# La primera posición empieza con el índice 0\n",
    "covid19_seq[0]\n",
    "# Segunda posición\n",
    "covid19_seq[1]\n",
    "# Las primeras 50 posiciones\n",
    "covid19_seq[0:50]\n",
    "# ó\n",
    "covid19_seq[:50]\n",
    "# Y de atrás para delante\n",
    "covid19_seq[-50]"
   ]
  },
  {
   "cell_type": "markdown",
   "metadata": {},
   "source": [
    "Ahora vamos a utilizar los bucles y condicionales para buscar el codón de inicio de transcripción para el genoma de covid19"
   ]
  },
  {
   "cell_type": "code",
   "execution_count": null,
   "metadata": {},
   "outputs": [],
   "source": [
    "# Define el codón de inicio\n",
    "start_codon = 'AUG'\n",
    "\n",
    "# Escanea la secuencia hasta encontrar el patrón\n",
    "for i in range(len(covid19_seq)):\n",
    "    if covid19_seq[i:i+3] == start_codon:\n",
    "        print('The start codon starts at index', i)\n",
    "        break\n",
    "else:\n",
    "    print('Codon not found in sequence.')"
   ]
  },
  {
   "cell_type": "markdown",
   "metadata": {},
   "source": [
    "<div class=\"alert alert-block alert-info\">\n",
    "<b>Ejercicio</b> Escriba los comandos anteriores dentro de un script que busca el codón de inicio y ejecútelo vía otro script de *slurm*. Encontró el codón de inicio? </div>"
   ]
  },
  {
   "cell_type": "markdown",
   "metadata": {},
   "source": [
    "Si no lo encotró probablmente es porque faltó un paso intermedio: transcribir el codón de DNA a RNA. Esto lo podemos hacer utilizando la función de biopython ``transcribe()``"
   ]
  },
  {
   "cell_type": "code",
   "execution_count": null,
   "metadata": {},
   "outputs": [],
   "source": [
    "covid_mRNA = covid19_seq.transcribe()"
   ]
  },
  {
   "cell_type": "markdown",
   "metadata": {},
   "source": [
    "<div class=\"alert alert-block alert-info\">\n",
    "<b>Ejercicio</b> Vuelva a correr el script anterior para el RNA mensajero y verifique si la posición indicada si contiene el códon de inicio </div>"
   ]
  }
 ],
 "metadata": {
  "language_info": {
   "name": "python"
  }
 },
 "nbformat": 4,
 "nbformat_minor": 2
}
