{
 "cells": [
  {
   "attachments": {},
   "cell_type": "markdown",
   "metadata": {},
   "source": [
    "# Introducción a Python y Biopython\n",
    "\n",
    "El proyecto de [Biopython](http://www.biopython.org) es una asociación internacional de desarrolladores del lenguaje [Python](https://www.python.org) con aplicación a biología molecular computacional. Es de libre acceso y está muy bien documentado, para mayor profundidad consulte el [Recetario de Biopython](http://biopython.org/DIST/docs/tutorial/Tutorial.html). Para la instalación y requisitos consultar https://github.com/biopython/biopython/blob/master/README.rst"
   ]
  },
  {
   "attachments": {},
   "cell_type": "markdown",
   "metadata": {},
   "source": [
    "# Instalación de Python con Conda\n",
    "Conda es un gestor de programas que permite descargar de forma ordenada las librerías para un programa y tener múltiples versiones de este. Vamos a usar [conda](https://conda.io/projects/conda/en/latest/user-guide/getting-started.html#managing-python), un paquete que ayuda a gestionar las instalaciones con múltiples ambientes y versiones. Vamos a crear un ambiente ([environment](https://conda.io/projects/conda/en/latest/user-guide/tasks/manage-environments.html#activating-an-environment)) llamado *biopython*, y allí vamos a instalar las librerías que necesitamos."
   ]
  },
  {
   "cell_type": "code",
   "execution_count": null,
   "metadata": {
    "vscode": {
     "languageId": "shellscript"
    }
   },
   "outputs": [],
   "source": [
    "conda create --name biopython python=3.9 #este último parámetro depende de la versión que funcione"
   ]
  },
  {
   "cell_type": "markdown",
   "metadata": {},
   "source": [
    "Ahora activamos el entorno que creamos para instalar los programas"
   ]
  },
  {
   "cell_type": "code",
   "execution_count": null,
   "metadata": {
    "vscode": {
     "languageId": "shellscript"
    }
   },
   "outputs": [],
   "source": [
    "conda list #listar los paquetes instalados\n",
    "conda activate biopython\n",
    "conda install -c conda-forge biopython\n",
    "conda info --envs #chequear los ambientes y sus nombres"
   ]
  },
  {
   "cell_type": "markdown",
   "metadata": {},
   "source": [
    "Ahora podemos \"entrar\" a python"
   ]
  },
  {
   "cell_type": "code",
   "execution_count": null,
   "metadata": {},
   "outputs": [],
   "source": [
    "python"
   ]
  },
  {
   "cell_type": "markdown",
   "metadata": {},
   "source": [
    "python funciona muy bien para trabajar con texto **strings*"
   ]
  },
  {
   "cell_type": "code",
   "execution_count": null,
   "metadata": {},
   "outputs": [],
   "source": [
    "print(\"Hello world!\")"
   ]
  },
  {
   "cell_type": "markdown",
   "metadata": {},
   "source": [
    "Y también funciona como una calculadora básica"
   ]
  },
  {
   "cell_type": "code",
   "execution_count": null,
   "metadata": {},
   "outputs": [],
   "source": [
    "3 + 5 * 4"
   ]
  },
  {
   "cell_type": "markdown",
   "metadata": {},
   "source": [
    "### Funciones y tipo de datos\n",
    "Normalmente trabajaremos con funciones que están compuestas por caracteres (\"strings\"), números enteros (\"integer numbers\") y números con decimales  (floating point numbers)"
   ]
  },
  {
   "cell_type": "code",
   "execution_count": null,
   "metadata": {},
   "outputs": [],
   "source": [
    "peso_kg = 3 + 5 * 4\n",
    "print(peso_kg) #imprime la función\n",
    "print(\"peso_kg\") #imprime los caracteres en \"string\"\n",
    "print(type(peso_kg))\n",
    "print(type(\"peso_kg\"))\n",
    "#por cierto esto es un comentario y por lo tanto no se ejecuta\n",
    "\n",
    "paciente_id = '001' # este es un número en formato de texto\n",
    "print('el paciente', paciente_id, 'tiene un peso en kilogramos de:', peso_kg)\n",
    "\n",
    "# y podemos combinar aritmética con variables dentro de la función pirnt():\n",
    "print('el paciente', paciente_id, 'tiene un peso en libras de:', 2.2*peso_kg)"
   ]
  },
  {
   "cell_type": "markdown",
   "metadata": {},
   "source": [
    "### For loop\n",
    "El foor loop funciona similar al que habíamos visto en la terminal de linux. Para comenzar definimos una lista (``[]``), que es un conjunto ordenado de ítems **empezando desde 0**"
   ]
  },
  {
   "cell_type": "code",
   "execution_count": null,
   "metadata": {},
   "outputs": [],
   "source": [
    "impares = [1, 3, 5, 7]\n",
    "print(impares[0])\n",
    "print(impares[1])\n",
    "print(impares[2])\n",
    "print(impares[3])"
   ]
  },
  {
   "cell_type": "markdown",
   "metadata": {},
   "source": [
    "Después iteramos sobre esa lista  con una tarea:"
   ]
  },
  {
   "cell_type": "code",
   "execution_count": null,
   "metadata": {},
   "outputs": [],
   "source": [
    "# Variante1\n",
    "for num in impares:\n",
    "    print(num)\n",
    "\n",
    "# Variante2\n",
    "for i in range(0,len(impares)):\n",
    "    print(impares[i])\n"
   ]
  },
  {
   "cell_type": "code",
   "execution_count": null,
   "metadata": {},
   "outputs": [],
   "source": [
    "Podemos incluir un condicional ``if`` (acompañado de ``==``) para incluir solo un item y excluir el resto"
   ]
  },
  {
   "cell_type": "code",
   "execution_count": null,
   "metadata": {},
   "outputs": [],
   "source": [
    "tres=3\n",
    "for num in impares:\n",
    "    if num == tres:\n",
    "        print(num)\n"
   ]
  },
  {
   "cell_type": "markdown",
   "metadata": {},
   "source": [
    "\n",
    "<div class=\"alert alert-block alert-warning\">\n",
    "<b>Nota:</b> La indentación (la sangría jerárquica luego de una declaración) es muy importante en Python. Si no se respeta, el programa arroja un error  </div>"
   ]
  },
  {
   "cell_type": "markdown",
   "metadata": {},
   "source": [
    "\n",
    "<div class=\"alert alert-block alert-info\">\n",
    "<b>Ejercicio</b> Incluya un condicional en la variante 2 del foor loop para imprimir solo el número 3   </div>"
   ]
  },
  {
   "cell_type": "markdown",
   "metadata": {},
   "source": [
    "## Biopython\n",
    "\n",
    "Es una colección de modulos con funciones predeterminadas que nos sirven para analizar secuencias y datos de biología molecular"
   ]
  },
  {
   "cell_type": "code",
   "execution_count": null,
   "metadata": {},
   "outputs": [],
   "source": [
    "import Bio\n",
    "print(Bio.__version__)"
   ]
  },
  {
   "attachments": {},
   "cell_type": "markdown",
   "metadata": {},
   "source": [
    "Si sale un error después de llamar Biopython, la instalación fue defectuosa. De lo contrario, está bien por el momento y empezamos a trabajar con secuencias. "
   ]
  },
  {
   "attachments": {},
   "cell_type": "markdown",
   "metadata": {},
   "source": [
    "### Secuencias\n",
    "Aunque una secuencia es un conjunto de letras, biopython tiene un formato especial para definir una secuencia"
   ]
  },
  {
   "cell_type": "code",
   "execution_count": null,
   "metadata": {},
   "outputs": [],
   "source": [
    "from Bio.Seq import Seq\n",
    "\n",
    "my_seq = Seq(\"AGTACACTGGT\")\n",
    "my_seq\n",
    "my_seq.complement()\n",
    "my_seq.reverse_complement()"
   ]
  },
  {
   "cell_type": "markdown",
   "metadata": {},
   "source": [
    "para salir de python escribimos"
   ]
  },
  {
   "cell_type": "code",
   "execution_count": null,
   "metadata": {},
   "outputs": [],
   "source": [
    "quit()"
   ]
  },
  {
   "attachments": {},
   "cell_type": "markdown",
   "metadata": {},
   "source": [
    "Un recordatorio de la síntesis de proteínas\n",
    "\n",
    "<img src=\"protein_synth.png\" width=400 height=400 />"
   ]
  },
  {
   "cell_type": "markdown",
   "metadata": {},
   "source": [
    "## Formato Fasta de Secuencias\n",
    "Existen diferente tipos de formatos para almacenar datos biólogicos, según su naturaleza. Estos formatos son formas estandarizadas que permiten codificar la información de manera simplificada. Muchos de estos formatos son en texto plano, y por lo tanto se pueden visualizar en editores como Notepad++ (Windows) o Sublime Text (Mac). Para el almacenamiento de secuencias se utilizan principalmente dos tipos de formato: FASTA y FASTQ\n",
    "\n",
    "<figure>\n",
    "<img src=\"fasta.png\" />"
   ]
  },
  {
   "attachments": {},
   "cell_type": "markdown",
   "metadata": {},
   "source": [
    "Vamos a crear un folder para esta clase y a copiar las secuencias descargardas anteriormente de DNA y de proteínas en formatos fasta"
   ]
  },
  {
   "cell_type": "code",
   "execution_count": null,
   "metadata": {
    "vscode": {
     "languageId": "shellscript"
    }
   },
   "outputs": [],
   "source": [
    "mkdir biocomp_python\n",
    "cp /home/path-to-sequence/sars_covid19/Sars_cov.dna.fa . \n",
    "cp /home/path-to-sequence/Sars_cov.prot.fa . "
   ]
  },
  {
   "cell_type": "markdown",
   "metadata": {},
   "source": [
    "## El virus COVID-19\n",
    "\n",
    "El genoma del virus [SARS-CoV-2](https://es.wikipedia.org/wiki/SARS-CoV-2) está formado por una sola cadena de ARN. Esta cadena condifica para unas pocas proteínas, que son responsables de infectar al hospedero y utilizar su maquinaria enzimática para síntetizar las proteínas del virus y así cumplir su ciclo de vida. Las proteínas virales son generalmente componentes estructurales: envoltura, espícula y membranas. La proteína de la [espícula](https://www.nature.com/articles/s41401-020-0485-4) (S) juega un papel fundamnetal en el reconocimiento del receptor y fue crucial para el diseño de las [vacunas](https://www.frontiersin.org/journals/immunology/articles/10.3389/fimmu.2021.701501/full).\n",
    "\n",
    "<figure>\n",
    "<img src=\"covid_spike.png\"/>"
   ]
  },
  {
   "cell_type": "code",
   "execution_count": null,
   "metadata": {},
   "outputs": [],
   "source": [
    "from Bio import SeqIO\n",
    "\n",
    "dna_file = \"Sars_cov.dna.fa\"\n",
    "\n",
    "for record in SeqIO.parse(dna_file, \"fasta\"):\n",
    "    print(record)\n"
   ]
  },
  {
   "attachments": {},
   "cell_type": "markdown",
   "metadata": {},
   "source": [
    "La función SeqIO.parse abre el archivo **input_file** y lo intepreta como un archivo fasta. Como solo hay una secuencia, el for loop solo itera una vez y muestra (\"print\") los atributos de la secuencia. Compárelo con el archivo fasta para entender que significa cada línea.\n",
    "\n",
    "Ahora vamos a extraer la secuencia y calcular su tamaño"
   ]
  },
  {
   "cell_type": "code",
   "execution_count": null,
   "metadata": {},
   "outputs": [],
   "source": [
    "for record in SeqIO.parse(dna_file, \"fasta\"):\n",
    "    print(record.seq)\n",
    "    print(len(record.seq))"
   ]
  },
  {
   "attachments": {},
   "cell_type": "markdown",
   "metadata": {},
   "source": [
    "De manera similar se hace con un archivo de múltiples secuencias, por ejemplo el archivo de proteínas.\n",
    "Repita la copia de archivo como se hizo anteriormente, con el de las proteínas.\n",
    "Ahora vamos a iterar sobre las secuencias del archivo \"Sars_cov.pep.fa\" y a desplegar los identificadores"
   ]
  },
  {
   "cell_type": "code",
   "execution_count": null,
   "metadata": {},
   "outputs": [],
   "source": [
    "prot_file = \"Sars_cov.prot.fa\"\n",
    "\n",
    "for record in SeqIO.parse(prot_file, \"fasta\"):\n",
    "    print(record.id)"
   ]
  },
  {
   "attachments": {},
   "cell_type": "markdown",
   "metadata": {},
   "source": [
    "Cuantas secuencias contiene el archivo? Vamos a imprimir su id, su tamaño y su descripción:"
   ]
  },
  {
   "cell_type": "code",
   "execution_count": null,
   "metadata": {},
   "outputs": [],
   "source": [
    "for record in SeqIO.parse(prot_file, \"fasta\"):\n",
    "    print(record.id,len(record.seq),record.description)"
   ]
  }
 ],
 "metadata": {
  "kernelspec": {
   "display_name": "Python 3 (ipykernel)",
   "language": "python",
   "name": "python3"
  },
  "language_info": {
   "codemirror_mode": {
    "name": "ipython",
    "version": 3
   },
   "file_extension": ".py",
   "mimetype": "text/x-python",
   "name": "python",
   "nbconvert_exporter": "python",
   "pygments_lexer": "ipython3",
   "version": "3.8.1"
  },
  "widgets": {
   "application/vnd.jupyter.widget-state+json": {
    "state": {},
    "version_major": 2,
    "version_minor": 0
   }
  }
 },
 "nbformat": 4,
 "nbformat_minor": 4
}
