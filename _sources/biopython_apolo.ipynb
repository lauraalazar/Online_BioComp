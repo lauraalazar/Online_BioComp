{
 "cells": [
  {
   "attachments": {},
   "cell_type": "markdown",
   "metadata": {},
   "source": [
    "# Introducción a Biopython\n",
    "\n",
    "El proyecto de [Biopython](http://www.biopython.org) es una asociación internacional de desarrolladores del lenguaje [Python](https://www.python.org) con aplicación a biología molecular computacional. Es de libre acceso y está muy bien documentado, para mayor profundidad consulte el [Recetario de Biopython](http://biopython.org/DIST/docs/tutorial/Tutorial.html). Para la instalación y requisitos consultar https://github.com/biopython/biopython/blob/master/README.rst"
   ]
  },
  {
   "attachments": {},
   "cell_type": "markdown",
   "metadata": {},
   "source": [
    "# Instalación de Biopython en Apolo\n",
    "Una introducción del servidor de EAFIT Apolo se encuentra [aquí](https://apolo-docs.readthedocs.io/en/latest/). \n",
    "Entre a Apolo por vía de putty o una terminal de linux (ya sea wsl o cygwin), previo inicio del Global Protect"
   ]
  },
  {
   "cell_type": "code",
   "execution_count": null,
   "metadata": {
    "vscode": {
     "languageId": "shellscript"
    }
   },
   "outputs": [],
   "source": [
    "ssh lsalazarj@apolo.eafit.edu.co\n"
   ]
  },
  {
   "cell_type": "markdown",
   "metadata": {},
   "source": [
    "Ahora vamos usar [conda](https://conda.io/projects/conda/en/latest/user-guide/getting-started.html#managing-python), un paquete que ayuda a gestionar las instalaciones con múltiples ambientes y versiones. Vamos a crear un ambiente ([environment](https://conda.io/projects/conda/en/latest/user-guide/tasks/manage-environments.html#activating-an-environment)) llamado *biopython*, y allí vamos a instalar las librerías que necesitamos."
   ]
  },
  {
   "cell_type": "code",
   "execution_count": null,
   "metadata": {
    "vscode": {
     "languageId": "shellscript"
    }
   },
   "outputs": [],
   "source": [
    "\n",
    "module load python/3.10_miniconda-23.5.2\n",
    "conda create -n biopython\n",
    "conda activate biopython\n",
    "conda install -c conda-forge biopython"
   ]
  },
  {
   "cell_type": "markdown",
   "metadata": {},
   "source": [
    "Estos comandos instalan una versión por defecto que a veces no funciona. Para especificar la versión que uno quiere (por ejemplo biopython compatible con python3.9 en vez 3.11)"
   ]
  },
  {
   "cell_type": "code",
   "execution_count": null,
   "metadata": {
    "vscode": {
     "languageId": "shellscript"
    }
   },
   "outputs": [],
   "source": [
    "conda create -n biopython_py3.9 python=3.9\n",
    "conda activate biopython_py3.9\n",
    "conda install -c conda-forge biopython"
   ]
  },
  {
   "attachments": {},
   "cell_type": "markdown",
   "metadata": {},
   "source": [
    "Debemos salir y volver a entrar a apolo para chequear la instalación. Una vez realizamos el login, activamos el ambiente de biopython y comenzamos python"
   ]
  },
  {
   "cell_type": "markdown",
   "metadata": {},
   "source": [
    "La siguiente vez que entran, ya instalado el ambiente hay que cargar el ambiente y activarlo"
   ]
  },
  {
   "cell_type": "code",
   "execution_count": null,
   "metadata": {
    "vscode": {
     "languageId": "shellscript"
    }
   },
   "outputs": [],
   "source": [
    "\n",
    "source activate biopython"
   ]
  },
  {
   "cell_type": "code",
   "execution_count": null,
   "metadata": {},
   "outputs": [],
   "source": [
    "\n",
    "python"
   ]
  },
  {
   "cell_type": "code",
   "execution_count": null,
   "metadata": {},
   "outputs": [],
   "source": [
    "import Bio\n",
    "print(Bio.__version__)"
   ]
  },
  {
   "attachments": {},
   "cell_type": "markdown",
   "metadata": {},
   "source": [
    "Si sale un error después de llamar la instalación fue defectuosa. De lo contrario, está bien por el momento y empezamos a trabajar con secuencias. "
   ]
  },
  {
   "attachments": {},
   "cell_type": "markdown",
   "metadata": {},
   "source": [
    "## Secuencias\n",
    "Aunque una secuencia es un conjunto de letras, biopython tiene un formato especial para definir una secuencia"
   ]
  },
  {
   "cell_type": "code",
   "execution_count": null,
   "metadata": {},
   "outputs": [],
   "source": [
    "from Bio.Seq import Seq\n",
    "my_seq = Seq(\"AGTACACTGGT\")\n",
    "my_seq\n",
    "my_seq.complement()\n",
    "my_seq.reverse_complement()"
   ]
  },
  {
   "attachments": {},
   "cell_type": "markdown",
   "metadata": {},
   "source": [
    "Un recordatorio de la síntesis de proteínas\n",
    "\n",
    "<img src=\"protein_synth.png\" />"
   ]
  },
  {
   "cell_type": "markdown",
   "metadata": {},
   "source": [
    "## Formato Fasta de Secuencias\n",
    "Existen diferente tipos de formatos para almacenar datos biólogicos, según su naturaleza. Estos formatos son formas estandarizadas que permiten codificar la información de manera simplificada. Muchos de estos formatos son en texto plano, y por lo tanto se pueden visualizar en editores como Notepad++ (Windows) o Sublime Text (Mac). Para el almacenamiento de secuencias se utilizan principalmente dos tipos de formato: FASTA y FASTQ\n",
    "\n",
    "<figure>\n",
    "<img src=\"fasta.png\" />"
   ]
  },
  {
   "attachments": {},
   "cell_type": "markdown",
   "metadata": {},
   "source": [
    "# Descargar y copiar archivos entre pc al servidor\n",
    "\n",
    "Vamos a descargar la secuencias de DNA y la de proteínas de uno de los ensamblajes del virus del COVID-19 en formatos fasta"
   ]
  },
  {
   "cell_type": "code",
   "execution_count": null,
   "metadata": {
    "vscode": {
     "languageId": "shellscript"
    }
   },
   "outputs": [],
   "source": [
    "wget http://ftp.ensemblgenomes.org/pub/viruses/fasta/sars_cov_2/dna/Sars_cov_2.ASM985889v3.dna_rm.toplevel.fa.gz \n",
    "wget http://ftp.ensemblgenomes.org/pub/viruses/fasta/sars_cov_2/pep/Sars_cov_2.ASM985889v3.pep.all.fa.gz"
   ]
  },
  {
   "cell_type": "markdown",
   "metadata": {},
   "source": [
    "Descomprima los archivos para evaluar su contenido"
   ]
  },
  {
   "cell_type": "code",
   "execution_count": null,
   "metadata": {
    "vscode": {
     "languageId": "shellscript"
    }
   },
   "outputs": [],
   "source": [
    "gunzip *.gz"
   ]
  },
  {
   "cell_type": "markdown",
   "metadata": {},
   "source": [
    "el \"*\" indica que lo haga para todos los archivos que estan comprimidos (.gz)"
   ]
  },
  {
   "cell_type": "markdown",
   "metadata": {},
   "source": [
    "Para guardar una copia de estos archivos en su PC, puede utilizar WinSCP o abrir una terminal en el PC donde quiera guardar el archivo y darle el comando:"
   ]
  },
  {
   "cell_type": "code",
   "execution_count": null,
   "metadata": {
    "vscode": {
     "languageId": "shellscript"
    }
   },
   "outputs": [],
   "source": [
    "scp lsalazarj@apolo.eafit.edu.co:/home/laura/clase_biopy/Sars_cov_2.ASM985889v3.pep.all.fa.gz ."
   ]
  },
  {
   "attachments": {},
   "cell_type": "markdown",
   "metadata": {},
   "source": [
    "esto significa \"save copy (scp) desde usuario@servidor:/folder/archivo aquí (.)\" Ahora usted tiene copia de estos archivos en su PC. Ahora volvamos a Apolo"
   ]
  },
  {
   "cell_type": "code",
   "execution_count": null,
   "metadata": {},
   "outputs": [],
   "source": [
    "from Bio import SeqIO\n",
    "\n",
    "dna_file = \"Sars_cov_2.ASM985889v3.dna_rm.toplevel.fa\"\n",
    "\n",
    "for record in SeqIO.parse(dna_file, \"fasta\"):\n",
    "    print(record)\n"
   ]
  },
  {
   "attachments": {},
   "cell_type": "markdown",
   "metadata": {},
   "source": [
    "La función SeqIO.parse abre el archivo **input_file** y lo intepreta como un archivo fasta. Como solo hay una secuencia, el for loop solo itera una vez y muestra (\"print\") los atributos de la secuencia. Compárelo con el archivo fasta para entender que significa cada línea.\n",
    "\n",
    "Ahora vamos a extraer la secuencia y calcular su tamaño"
   ]
  },
  {
   "cell_type": "code",
   "execution_count": null,
   "metadata": {},
   "outputs": [],
   "source": [
    "for record in SeqIO.parse(dna_file, \"fasta\"):\n",
    "    print(record.seq)\n",
    "    print(len(record.seq))"
   ]
  },
  {
   "attachments": {},
   "cell_type": "markdown",
   "metadata": {},
   "source": [
    "\n",
    "<div class=\"alert alert-block alert-warning\">\n",
    "<b>Nota:</b> La indentación (la sangría jerárquica luego de una declaración) es muy importante en Python. Si no se respeta, el programa arroja un error  </div>"
   ]
  },
  {
   "attachments": {},
   "cell_type": "markdown",
   "metadata": {},
   "source": [
    "De manera similar se hace con un archivo de múltiples secuencias, por ejemplo el archivo de proteínas.\n",
    "Repita la copia de archivo como se hizo anteriormente, con el de las proteínas.\n",
    "Ahora vamos a iterar sobre las secuencias del archivo \"Sars_cov.pep.fa\" y a desplegar los identificadores"
   ]
  },
  {
   "cell_type": "code",
   "execution_count": null,
   "metadata": {},
   "outputs": [],
   "source": [
    "prot_file = \"Sars_cov_2.ASM985889v3.pep.all.fa\"\n",
    "\n",
    "for record in SeqIO.parse(prot_file, \"fasta\"):\n",
    "    print(record.id)"
   ]
  },
  {
   "attachments": {},
   "cell_type": "markdown",
   "metadata": {},
   "source": [
    "En este archivo hay 12 proteínas de diferentes tamaños y con funciones distintas. Vamos a imprimir su id, su tamaño y su descripción. Estos comando se pueden guardar dentro de un script de python utilizando uno de los editores (vi, nano, etc)"
   ]
  },
  {
   "cell_type": "code",
   "execution_count": null,
   "metadata": {
    "vscode": {
     "languageId": "shellscript"
    }
   },
   "outputs": [],
   "source": [
    "vi covid19_seqs.py"
   ]
  },
  {
   "cell_type": "markdown",
   "metadata": {},
   "source": [
    "y se copian los comandos "
   ]
  },
  {
   "cell_type": "code",
   "execution_count": null,
   "metadata": {},
   "outputs": [],
   "source": [
    "# Script por Laura Salazar Jaramillo\n",
    "# Muestra información de las secuencias de SARS-covid 19\n",
    "\n",
    "# Importamos las librerías necesarias\n",
    "\n",
    "import Bio\n",
    "from Bio import SeqIO\n",
    "from Bio.Seq import Seq\n",
    "\n",
    "# Archivos de entrada (inputs)\n",
    "dna_file = \"/home/lsalazarj/bicomp2024-2/Sars_cov_2.ASM985889v3.dna_rm.toplevel.fa\"\n",
    "prot_file = \"/home/lsalazarj/bicomp2024-2/Sars_cov_2.ASM985889v3.pep.all.fa\"\n",
    "\n",
    "\n",
    "# Listamos el tamano del genoma\n",
    "for record in SeqIO.parse(dna_file, \"fasta\"):\n",
    "    print(\"La longitud en nc del genoma es:\",len(record.seq))\n",
    "\n",
    "# Listamos los id y longitudes de las proteínas\n",
    "for record in SeqIO.parse(prot_file, \"fasta\"):\n",
    "    print(record.id,len(record.seq),record.description.split()[9])"
   ]
  },
  {
   "attachments": {},
   "cell_type": "markdown",
   "metadata": {},
   "source": [
    "## Escribir un script de python y ejecutar en Apolo  \n",
    "Como se explicó durante la introducción de Apolo, el servidor está diseñado para correr los trabajos por vía de script. Es decir que todo lo que hicimos dentro de python lo debemos guardar en un script  y correrlo con el comando ``python script.py``. Este último comando no se escribe directamente en la terminal, sino que se guarda dentro de un script *slurm* (con extensión .sh)"
   ]
  },
  {
   "cell_type": "code",
   "execution_count": null,
   "metadata": {
    "vscode": {
     "languageId": "shellscript"
    }
   },
   "outputs": [],
   "source": [
    "#!/bin/bash\n",
    "\n",
    "#SBATCH --partition=learning                   # Partition (estudiantes)\n",
    "#SBATCH --nodes=1\n",
    "#SBATCH --ntasks=1                              # Number of tasks (processes)\n",
    "#SBATCH --time=3:00                           # Walltime\n",
    "#SBATCH --job-name=clase_python                 # Job name\n",
    "#SBATCH --output=%x_%j.out                      # Stdout (%x-jobName, %j-jobId)\n",
    "#SBATCH --error=%x_%j.err                       # Stderr (%x-jobName, %j-jobId)\n",
    "#SBATCH --mail-type=ALL                         # Mail notification\n",
    "#SBATCH --mail-user=lsalazarj@eafit.edu.co       # User Email\n",
    "\n",
    "\n",
    "##### ENVIRONMENT CREATION #####\n",
    "source activate biopython\n",
    "\n",
    "##### JOB COMMANDS #### \n",
    "python /home/lsalazarj/bicomp2024-2/covid19_seqs.py"
   ]
  },
  {
   "cell_type": "markdown",
   "metadata": {},
   "source": [
    "Guardamos este archivo y lo ejecutamos con el comando"
   ]
  },
  {
   "cell_type": "code",
   "execution_count": null,
   "metadata": {
    "vscode": {
     "languageId": "shellscript"
    }
   },
   "outputs": [],
   "source": [
    "sbatch slurm_covid19seq.sh "
   ]
  },
  {
   "cell_type": "markdown",
   "metadata": {},
   "source": [
    "Para ver si la lista de prioridades le damos"
   ]
  },
  {
   "cell_type": "code",
   "execution_count": null,
   "metadata": {
    "vscode": {
     "languageId": "shellscript"
    }
   },
   "outputs": [],
   "source": [
    "squeue"
   ]
  },
  {
   "cell_type": "markdown",
   "metadata": {},
   "source": [
    "Una vez el script termina de correr debe producir dos archivos: *.err* y *.out* que nos dan el output o los errores para generarlo"
   ]
  },
  {
   "attachments": {},
   "cell_type": "markdown",
   "metadata": {},
   "source": [
    "Para copiar los archivos desde Apolo al computador personal entre a la terminal del computador y copie el archivo con la ruta completa desde Apolo al directorio donde está (indicaod por \".\") o a otro directorio indicándole la ruta completa"
   ]
  },
  {
   "cell_type": "code",
   "execution_count": null,
   "metadata": {
    "vscode": {
     "languageId": "shellscript"
    }
   },
   "outputs": [],
   "source": [
    "scp lsalazarj@apolo.eafit.edu.co:/home/laura/biopython/covid19_seqs.py ."
   ]
  },
  {
   "attachments": {},
   "cell_type": "markdown",
   "metadata": {},
   "source": [
    "<div class=\"alert alert-block alert-info\">\n",
    "<b>Ejercicio</b> \n",
    "Ejecute en Apolo el script de python via Slurm \n",
    "</div>"
   ]
  }
 ],
 "metadata": {
  "kernelspec": {
   "display_name": "Python 3 (ipykernel)",
   "language": "python",
   "name": "python3"
  },
  "language_info": {
   "codemirror_mode": {
    "name": "ipython",
    "version": 3
   },
   "file_extension": ".py",
   "mimetype": "text/x-python",
   "name": "python",
   "nbconvert_exporter": "python",
   "pygments_lexer": "ipython3",
   "version": "3.8.1"
  },
  "widgets": {
   "application/vnd.jupyter.widget-state+json": {
    "state": {},
    "version_major": 2,
    "version_minor": 0
   }
  }
 },
 "nbformat": 4,
 "nbformat_minor": 4
}
