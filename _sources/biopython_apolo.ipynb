{
 "cells": [
  {
   "attachments": {},
   "cell_type": "markdown",
   "metadata": {},
   "source": [
    "# Introducción a Biopython\n",
    "\n",
    "El proyecto de [Biopython](http://www.biopython.org) es una asociación internacional de desarrolladores del lenguaje [Python](https://www.python.org) con aplicación a biología molecular computacional. Es de libre acceso y está muy bien documentado, para mayor profundidad consulte el [Recetario de Biopython](http://biopython.org/DIST/docs/tutorial/Tutorial.html). Para la instalación y requisitos consultar https://github.com/biopython/biopython/blob/master/README.rst"
   ]
  },
  {
   "attachments": {},
   "cell_type": "markdown",
   "metadata": {},
   "source": [
    "# Instalación de Biopython en Apolo\n",
    "Una introducción del servidor de EAFIT Apolo se encuentra [aquí](https://apolo-docs.readthedocs.io/en/latest/). \n",
    "Entre a Apolo por vía de putty o una terminal de linux (ya sea wsl o cygwin), previo inicio del Global Protect"
   ]
  },
  {
   "cell_type": "code",
   "execution_count": null,
   "metadata": {
    "vscode": {
     "languageId": "shellscript"
    }
   },
   "outputs": [],
   "source": [
    "ssh lsalazarj@apolo.eafit.edu.co\n"
   ]
  },
  {
   "cell_type": "markdown",
   "metadata": {},
   "source": [
    "Ahora vamos usar [conda](https://conda.io/projects/conda/en/latest/user-guide/getting-started.html#managing-python), un paquete que ayuda a gestionar las instalaciones con múltiples ambientes y versiones. Vamos a crear un ambiente ([environment](https://conda.io/projects/conda/en/latest/user-guide/tasks/manage-environments.html#activating-an-environment)) llamado *biopython*, y allí vamos a instalar las librerías que necesitamos."
   ]
  },
  {
   "cell_type": "code",
   "execution_count": null,
   "metadata": {
    "vscode": {
     "languageId": "shellscript"
    }
   },
   "outputs": [],
   "source": [
    "\n",
    "module load python/3.10_miniconda-23.5.2\n",
    "conda create -n biopython\n",
    "conda activate biopython\n",
    "conda install -c conda-forge biopython"
   ]
  },
  {
   "cell_type": "markdown",
   "metadata": {},
   "source": [
    "Estos comandos instalan una versión por defecto que a veces no funciona. Para especificar la versión que uno quiere (por ejemplo biopython compatible con python3.9 en vez 3.11)"
   ]
  },
  {
   "cell_type": "code",
   "execution_count": null,
   "metadata": {
    "vscode": {
     "languageId": "shellscript"
    }
   },
   "outputs": [],
   "source": [
    "conda create -n biopython_py3.9 python=3.9\n",
    "conda activate biopython_py3.9\n",
    "conda install -c conda-forge biopython"
   ]
  },
  {
   "attachments": {},
   "cell_type": "markdown",
   "metadata": {},
   "source": [
    "Debemos salir y volver a entrar a apolo para chequear la instalación. Una vez realizamos el login, activamos el ambiente de bioppython y comenzamos python"
   ]
  },
  {
   "cell_type": "markdown",
   "metadata": {},
   "source": [
    "La siguiente vez que entran, ya instalado el ambiente: cargand el ambiente y lo activan"
   ]
  },
  {
   "cell_type": "code",
   "execution_count": null,
   "metadata": {
    "vscode": {
     "languageId": "shellscript"
    }
   },
   "outputs": [],
   "source": [
    "\n",
    "module load python/3.10_miniconda-23.5.2\n",
    "source activate biopython\n"
   ]
  },
  {
   "cell_type": "code",
   "execution_count": null,
   "metadata": {},
   "outputs": [],
   "source": [
    "\n",
    "python"
   ]
  },
  {
   "cell_type": "code",
   "execution_count": null,
   "metadata": {},
   "outputs": [],
   "source": [
    "import Bio\n",
    "print(Bio.__version__)"
   ]
  },
  {
   "attachments": {},
   "cell_type": "markdown",
   "metadata": {},
   "source": [
    "Si sale un error después de llamar la instalación fue defectuosa. De lo contrario, está bien por el momento y empezamos a trabajar con secuencias. "
   ]
  },
  {
   "attachments": {},
   "cell_type": "markdown",
   "metadata": {},
   "source": [
    "## Secuencias\n",
    "Aunque una secuencia es un conjunto de letras, biopython tiene un formato especial para definir una secuencia"
   ]
  },
  {
   "cell_type": "code",
   "execution_count": null,
   "metadata": {},
   "outputs": [],
   "source": [
    "from Bio.Seq import Seq\n",
    "my_seq = Seq(\"AGTACACTGGT\")\n",
    "my_seq\n",
    "my_seq.complement()\n",
    "my_seq.reverse_complement()"
   ]
  },
  {
   "attachments": {},
   "cell_type": "markdown",
   "metadata": {},
   "source": [
    "Un recordatorio de la síntesis de proteínas\n",
    "\n",
    "<img src=\"protein_synth.png\" width=400 height=400 />"
   ]
  },
  {
   "cell_type": "markdown",
   "metadata": {},
   "source": [
    "## Formato Fasta de Secuencias\n",
    "Existen diferente tipos de formatos para almacenar datos biólogicos, según su naturaleza. Estos formatos son formas estandarizadas que permiten codificar la información de manera simplificada. Muchos de estos formatos son en texto plano, y por lo tanto se pueden visualizar en editores como Notepad++ (Windows) o Sublime Text (Mac). Para el almacenamiento de secuencias se utilizan principalmente dos tipos de formato: FASTA y FASTQ\n",
    "\n",
    "<figure>\n",
    "<img src=\"fasta.png\" width=150 height=150 />"
   ]
  },
  {
   "attachments": {},
   "cell_type": "markdown",
   "metadata": {},
   "source": [
    "# Descargar y copiar archivos entre pc al servidor\n",
    "\n",
    "Vamos a descargar la secuencias de DNA y la de proteínas de uno de los ensamblajes del virus del COVID-19 en formatos fasta"
   ]
  },
  {
   "cell_type": "code",
   "execution_count": null,
   "metadata": {
    "vscode": {
     "languageId": "shellscript"
    }
   },
   "outputs": [],
   "source": [
    "wget http://ftp.ensemblgenomes.org/pub/viruses/fasta/sars_cov_2/dna/Sars_cov_2.ASM985889v3.dna_rm.toplevel.fa.gz \n",
    "wget http://ftp.ensemblgenomes.org/pub/viruses/fasta/sars_cov_2/pep/Sars_cov_2.ASM985889v3.pep.all.fa.gz"
   ]
  },
  {
   "cell_type": "markdown",
   "metadata": {},
   "source": [
    "Para guardar una copia de estos archivos en su PC, puede utilizar WinSCP o abrir una terminal en el PC donde quiera guardar el archivo y darle el comando:"
   ]
  },
  {
   "cell_type": "code",
   "execution_count": null,
   "metadata": {
    "vscode": {
     "languageId": "shellscript"
    }
   },
   "outputs": [],
   "source": [
    "scp lsalazarj@apolo.eafit.edu.co:/home/laura/clase_biopy/glycoproteins.py ."
   ]
  },
  {
   "attachments": {},
   "cell_type": "markdown",
   "metadata": {},
   "source": [
    "esto significa \"save copy (scp) desde usuario@servidor:/folder/archivo aquí (.)\" Ahora usted tiene copia de estos archivos en su PC. Ahora volvamos a Apolo"
   ]
  },
  {
   "cell_type": "markdown",
   "metadata": {},
   "source": [
    "Descomprima los archivos para evaluar su contenido"
   ]
  },
  {
   "cell_type": "code",
   "execution_count": null,
   "metadata": {
    "vscode": {
     "languageId": "shellscript"
    }
   },
   "outputs": [],
   "source": [
    "gunzip *.gz"
   ]
  },
  {
   "attachments": {},
   "cell_type": "markdown",
   "metadata": {},
   "source": [
    "el \"*\" indica que lo haga para todos los archivos que estan comprimidos (.gz)"
   ]
  },
  {
   "cell_type": "code",
   "execution_count": null,
   "metadata": {},
   "outputs": [],
   "source": [
    "from Bio import SeqIO\n",
    "\n",
    "dna_file = \"Sars_cov_2.ASM985889v3.dna_rm.toplevel.fa\"\n",
    "\n",
    "for record in SeqIO.parse(dna_file, \"fasta\"):\n",
    "    print(record)\n"
   ]
  },
  {
   "attachments": {},
   "cell_type": "markdown",
   "metadata": {},
   "source": [
    "La función SeqIO.parse abre el archivo **input_file** y lo intepreta como un archivo fasta. Como solo hay una secuencia, el for loop solo itera una vez y muestra (\"print\") los atributos de la secuencia. Compárelo con el archivo fasta para entender que significa cada línea.\n",
    "\n",
    "Ahora vamos a extraer la secuencia y calcular su tamaño"
   ]
  },
  {
   "cell_type": "code",
   "execution_count": null,
   "metadata": {},
   "outputs": [],
   "source": [
    "for record in SeqIO.parse(dna_file, \"fasta\"):\n",
    "    print(record.seq)\n",
    "    print(len(record.seq))"
   ]
  },
  {
   "attachments": {},
   "cell_type": "markdown",
   "metadata": {},
   "source": [
    "\n",
    "<div class=\"alert alert-block alert-warning\">\n",
    "<b>Nota:</b> La indentación (la sangría jerárquica luego de una declaración) es muy importante en Python. Si no se respeta, el programa arroja un error  </div>"
   ]
  },
  {
   "attachments": {},
   "cell_type": "markdown",
   "metadata": {},
   "source": [
    "De manera similar se hace con un archivo de múltiples secuencias, por ejemplo el archivo de proteínas.\n",
    "Repita la copia de archivo como se hizo anteriormente, con el de las proteínas.\n",
    "Ahora vamos a iterar sobre las secuencias del archivo \"Sars_cov.pep.fa\" y a desplegar los identificadores"
   ]
  },
  {
   "cell_type": "code",
   "execution_count": null,
   "metadata": {},
   "outputs": [],
   "source": [
    "prot_file = \"Sars_cov_2.ASM985889v3.pep.all.fa\"\n",
    "\n",
    "for record in SeqIO.parse(prot_file, \"fasta\"):\n",
    "    print(record.id)"
   ]
  },
  {
   "attachments": {},
   "cell_type": "markdown",
   "metadata": {},
   "source": [
    "En este archivo hay 12 proteínas de diferentes tamaños y con funciones distintas. Vamos a imprimir su id, su tamaño y su descripción:"
   ]
  },
  {
   "cell_type": "code",
   "execution_count": null,
   "metadata": {},
   "outputs": [],
   "source": [
    "for record in SeqIO.parse(prot_file, \"fasta\"):\n",
    "    print(record.id,len(record.seq),record.description)"
   ]
  },
  {
   "attachments": {},
   "cell_type": "markdown",
   "metadata": {},
   "source": [
    "La descripción tiene mucha información importante pero esta no es muy clara, entonces vamos a extraer el fragmento que contiene la función, vamos a dividir la descripción en items, utilizando la función ``split.()`` y luego le damos el número (**index**) del item entre de interés ``[]`` (es el item 9 pero como python comienza a contar desde 0 entonces es el 8) "
   ]
  },
  {
   "cell_type": "code",
   "execution_count": null,
   "metadata": {},
   "outputs": [],
   "source": [
    "for record in SeqIO.parse(prot_file, \"fasta\"):\n",
    "    print(record.id,len(record.seq),record.description.split()[8])"
   ]
  },
  {
   "attachments": {},
   "cell_type": "markdown",
   "metadata": {},
   "source": [
    "## Escribir secuencias un archivo  \n",
    "Con frecuencia estamos interesados en un subconjunto de los genes o proteínas para realizar un análisis a profundidad de ellos. En este caso vamos a seleccionar las glicoproteínas que son aquellas que codifican la espícula. Esta espícula (\"spike\") es la encargada de mediar la entrada del virus hacia el hospedero y tiene una tasa de mutación mas alta que los otros genes, lo que presumiblemente dió origen a cepas mas virulentas (https://en.wikipedia.org/wiki/Coronavirus_spike_protein)"
   ]
  },
  {
   "cell_type": "code",
   "execution_count": null,
   "metadata": {},
   "outputs": [],
   "source": [
    "from Bio.Seq import Seq\n",
    "from Bio.SeqRecord import SeqRecord\n",
    "\n",
    "for record in SeqIO.parse(prot_file, \"fasta\"):\n",
    "    if (record.description.split()[9] == \"glycoprotein\"):\n",
    "        print(record)"
   ]
  },
  {
   "attachments": {},
   "cell_type": "markdown",
   "metadata": {},
   "source": [
    "Hasta aquí hemos seleccionado las secuencias que contienen el término \"glycoprotein\". Para escribirlas en un archivo en un formato adecuado de secuencias vamos a utilizar la función de biopython  ``Bio.SeqIO.write()`` y a cambiar un poco el estilo. "
   ]
  },
  {
   "cell_type": "code",
   "execution_count": null,
   "metadata": {},
   "outputs": [],
   "source": [
    "glycoproteins = (record for record in SeqIO.parse(prot_file, \"fasta\") if (record.description.split()[9] == \"glycoprotein\"))\n",
    "SeqIO.write(glycoproteins, \"sars_covid19_glycoproteins.fa\", \"fasta\")"
   ]
  },
  {
   "attachments": {},
   "cell_type": "markdown",
   "metadata": {},
   "source": [
    "Donde eperas que esté el archivo? Chequéalo mirando el directorio actual (\"get current working directory\"). Verifica que si se haya generado con el nombre y formatos correctos, y la información que deseamos que contenga. "
   ]
  },
  {
   "cell_type": "code",
   "execution_count": null,
   "metadata": {},
   "outputs": [],
   "source": [
    "import os\n",
    "\n",
    "os.getcwd()\n",
    "os.listdir()"
   ]
  },
  {
   "attachments": {},
   "cell_type": "markdown",
   "metadata": {},
   "source": [
    "Por último, vamos a escribir los comando que utilizamos en un script de python (con extensión \".py\") para dejar registro de lo que hicimos y pueda ser repetible"
   ]
  },
  {
   "cell_type": "code",
   "execution_count": null,
   "metadata": {},
   "outputs": [],
   "source": [
    "#!/usr/local/bin/\n",
    "\n",
    "# Script por Laura Salazar Jaramillo\n",
    "# Genera un subconjunto de glicoproteinas de SARS-covid 19\n",
    "\n",
    "# Importamos las librerías necesarias\n",
    "import os\n",
    "import sys\n",
    "\n",
    "import Bio\n",
    "from Bio import SeqIO\n",
    "from Bio.Seq import Seq\n",
    "\n",
    "# Archivos de entrada (inputs)\n",
    "dna_file = \"/home/lsalazarj/bicomp2024/Sars_cov.dna.fa\"\n",
    "prot_file = \"Sars_cov.prot.fa\"\n",
    "\n",
    "\n",
    "# Listamos el tamano del genoma\n",
    "for record in SeqIO.parse(dna_file, \"fasta\"):\n",
    "    print(\"La longitud en nc del genoma es:\",len(record.seq))\n",
    "\n",
    "# Listamos los id y longitudes de las proteínas\n",
    "for record in SeqIO.parse(prot_file, \"fasta\"):\n",
    "    print(record.id,len(record.seq),record.description.split()[9])\n",
    "\n",
    "# Seleccionamos las glicoproteínas y las guardamos en un archivo aparte\n",
    "glycoproteins = (record for record in SeqIO.parse(prot_file, \"fasta\") if (record.description.split()[9] == \"glycoprotein\"))\n",
    "SeqIO.write(glycoproteins, \"sars_covid19_glycoproteins.fa\", \"fasta\")"
   ]
  },
  {
   "attachments": {},
   "cell_type": "markdown",
   "metadata": {},
   "source": [
    "Este script se puede ejecutar en la terminal escribiendo los comandos"
   ]
  },
  {
   "cell_type": "code",
   "execution_count": null,
   "metadata": {
    "vscode": {
     "languageId": "shellscript"
    }
   },
   "outputs": [],
   "source": [
    "python glycoproteins.py > glycoproteins.out"
   ]
  },
  {
   "attachments": {},
   "cell_type": "markdown",
   "metadata": {},
   "source": [
    "Para copiar los archivos desde Apolo al computador personal entre a la terminal del computador y copie el archivo con la ruta completa desde Apolo al directorio donde está (indicaod por \".\") o a otro directorio indicándole la ruta completa"
   ]
  },
  {
   "cell_type": "code",
   "execution_count": null,
   "metadata": {
    "vscode": {
     "languageId": "shellscript"
    }
   },
   "outputs": [],
   "source": [
    "scp lsalazarj@apolo.eafit.edu.co:/home/laura/biopython/glycoproteins.py ."
   ]
  },
  {
   "attachments": {},
   "cell_type": "markdown",
   "metadata": {},
   "source": [
    "<div class=\"alert alert-block alert-info\">\n",
    "<b>Ejercicio</b> \n",
    "Ejecute en Apolo el script de python via Slurm \n",
    "</div>"
   ]
  }
 ],
 "metadata": {
  "kernelspec": {
   "display_name": "Python 3 (ipykernel)",
   "language": "python",
   "name": "python3"
  },
  "language_info": {
   "codemirror_mode": {
    "name": "ipython",
    "version": 3
   },
   "file_extension": ".py",
   "mimetype": "text/x-python",
   "name": "python",
   "nbconvert_exporter": "python",
   "pygments_lexer": "ipython3",
   "version": "3.8.1"
  },
  "widgets": {
   "application/vnd.jupyter.widget-state+json": {
    "state": {},
    "version_major": 2,
    "version_minor": 0
   }
  }
 },
 "nbformat": 4,
 "nbformat_minor": 4
}
