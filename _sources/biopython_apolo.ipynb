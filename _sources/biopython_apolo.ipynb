{
 "cells": [
  {
   "attachments": {},
   "cell_type": "markdown",
   "metadata": {},
   "source": [
    "# Instalación de Biopython en Apolo\n",
    "Una introducción del servidor de EAFIT Apolo se encuentra [aquí](https://apolo-docs.readthedocs.io/en/latest/). \n",
    "\n",
    "Entre a Apolo por vía de putty o una terminal de linux (ya sea wsl o cygwin), previo inicio del Global Protect"
   ]
  },
  {
   "cell_type": "code",
   "execution_count": null,
   "metadata": {
    "vscode": {
     "languageId": "shellscript"
    }
   },
   "outputs": [],
   "source": [
    "ssh lsalazarj@apolo.eafit.edu.co"
   ]
  },
  {
   "cell_type": "markdown",
   "metadata": {},
   "source": [
    "Si es la primera vez, le pedirá cambiar el password. Tenga en cuenta que cuando escribe su password **no verá esta escritura** por lo que es fácil cometer errores o repetir caracteres. "
   ]
  },
  {
   "cell_type": "markdown",
   "metadata": {},
   "source": [
    "Una vez está en su cuenta puede observar los archivos que se encuentran en su *home*\n",
    "\n",
    "pantallazoapolo"
   ]
  },
  {
   "cell_type": "markdown",
   "metadata": {},
   "source": [
    " Ahora vamos usar [conda] para crear un ambiente ([environment] donde instalaremos *biopython*, y las librerías que necesitamos."
   ]
  },
  {
   "cell_type": "code",
   "execution_count": null,
   "metadata": {
    "vscode": {
     "languageId": "shellscript"
    }
   },
   "outputs": [],
   "source": [
    "module load python/3.10_miniconda-23.5.2\n",
    "conda create -n biopython_env\n",
    "conda activate biopython_env\n",
    "conda install -c conda-forge biopython"
   ]
  },
  {
   "cell_type": "markdown",
   "metadata": {},
   "source": [
    "Estos comandos instalan una versión por defecto que a veces no funciona. Para especificar la versión que uno quiere (por ejemplo biopython compatible con python3.9 en vez 3.11)"
   ]
  },
  {
   "cell_type": "code",
   "execution_count": null,
   "metadata": {
    "vscode": {
     "languageId": "shellscript"
    }
   },
   "outputs": [],
   "source": [
    "conda create -n biopython_py3.9 python=3.9\n",
    "conda activate biopython_py3.9\n",
    "conda install -c conda-forge biopython"
   ]
  },
  {
   "attachments": {},
   "cell_type": "markdown",
   "metadata": {},
   "source": [
    "Debemos salir y volver a entrar a apolo para chequear la instalación. Una vez realizamos el login, activamos el ambiente de biopython y comenzamos python"
   ]
  },
  {
   "cell_type": "markdown",
   "metadata": {},
   "source": [
    "La siguiente vez que entran, ya instalado el ambiente, hay que cargar el ambiente y activarlo"
   ]
  },
  {
   "cell_type": "code",
   "execution_count": null,
   "metadata": {
    "vscode": {
     "languageId": "shellscript"
    }
   },
   "outputs": [],
   "source": [
    "\n",
    "source activate biopython"
   ]
  },
  {
   "cell_type": "code",
   "execution_count": null,
   "metadata": {},
   "outputs": [],
   "source": [
    "\n",
    "python"
   ]
  },
  {
   "cell_type": "code",
   "execution_count": null,
   "metadata": {},
   "outputs": [],
   "source": [
    "import Bio\n",
    "print(Bio.__version__)\n",
    "\n",
    "quit() #para salir"
   ]
  },
  {
   "attachments": {},
   "cell_type": "markdown",
   "metadata": {},
   "source": [
    "## Compartir archivos entre Apolo y computador personal"
   ]
  },
  {
   "cell_type": "markdown",
   "metadata": {},
   "source": [
    "Para intercambiar archivos entre su PC, puede utilizar WinSCP o abrir una terminal en su PC desde donde tenga almacenados los archivos a compartir. Abra una terminal **en su PC** y entre al directorio de los archivos que desea enviar a Apolo. Por ejemplo las secuencias de COVID descargadas previamente. Una vez en dicho directorio, el comando general funciona ``scp [archivo que quiero enviar] [directorio a donde lo voy a enviar]``"
   ]
  },
  {
   "cell_type": "code",
   "execution_count": null,
   "metadata": {
    "vscode": {
     "languageId": "shellscript"
    }
   },
   "outputs": [],
   "source": [
    "scp Sars_cov_2.ASM985889v3.pep.all.fa.gz lsalazarj@apolo.eafit.edu.co:/home/laura"
   ]
  },
  {
   "attachments": {},
   "cell_type": "markdown",
   "metadata": {},
   "source": [
    "esto significa \"save copy (scp) desde mi PC a usuario@servidor:/folder/\" Ahora usted tiene copia de estos archivos en apolo. "
   ]
  },
  {
   "cell_type": "code",
   "execution_count": null,
   "metadata": {
    "vscode": {
     "languageId": "shellscript"
    }
   },
   "outputs": [],
   "source": [
    "mkdir covid19\n",
    "mv Sars_cov_2.*.gz covid19 \n",
    "cd covid19"
   ]
  },
  {
   "cell_type": "markdown",
   "metadata": {},
   "source": [
    "Dentro del directorio donde vamos a trabajar, vamos escribir los comandos que utilizamos anteriormente para iterar sobre las secuencias "
   ]
  },
  {
   "cell_type": "markdown",
   "metadata": {},
   "source": [
    "## Escribir un script de python y ejecutar en Apolo  "
   ]
  },
  {
   "cell_type": "code",
   "execution_count": null,
   "metadata": {
    "vscode": {
     "languageId": "shellscript"
    }
   },
   "outputs": [],
   "source": [
    "vi covid19_seqs.py"
   ]
  },
  {
   "cell_type": "markdown",
   "metadata": {},
   "source": [
    "y se copian los comandos "
   ]
  },
  {
   "cell_type": "code",
   "execution_count": null,
   "metadata": {},
   "outputs": [],
   "source": [
    "# Script por Laura Salazar Jaramillo\n",
    "# Muestra información de las secuencias de SARS-covid 19\n",
    "\n",
    "# Importamos las librerías necesarias\n",
    "\n",
    "import Bio\n",
    "from Bio import SeqIO\n",
    "from Bio.Seq import Seq\n",
    "\n",
    "# Archivos de entrada (inputs) con rutas ABSOLUTAS\n",
    "dna_file = \"/home/lsalazarj/bicomp2025-21/covid19/Sars_cov_2.ASM985889v3.dna_rm.toplevel.fa\"\n",
    "prot_file = \"/home/lsalazarj/bicomp2025-21/Sars_cov_2.ASM985889v3.pep.all.fa\"\n",
    "\n",
    "\n",
    "# Listamos el tamano del genoma\n",
    "for record in SeqIO.parse(dna_file, \"fasta\"):\n",
    "    print(\"La longitud en nc del genoma es:\",len(record.seq))\n",
    "\n",
    "# Listamos los id y longitudes de las proteínas\n",
    "for record in SeqIO.parse(prot_file, \"fasta\"):\n",
    "    print(record.id,len(record.seq),record.description.split()[9])"
   ]
  },
  {
   "attachments": {},
   "cell_type": "markdown",
   "metadata": {},
   "source": [
    "### script SLURM\n",
    "\n",
    "Como se explicó durante la introducción de Apolo, el servidor está diseñado para correr los trabajos por vía de script. Es decir que todo lo que hicimos dentro de python lo debemos guardar en un script  y correrlo con el comando ``python script.py``. Este último comando no se escribe directamente en la terminal, sino que se guarda dentro de un script *slurm* (con extensión .sh)"
   ]
  },
  {
   "cell_type": "code",
   "execution_count": null,
   "metadata": {
    "vscode": {
     "languageId": "shellscript"
    }
   },
   "outputs": [],
   "source": [
    "#!/bin/bash\n",
    "\n",
    "#SBATCH --partition=learning                   # Partition (estudiantes)\n",
    "#SBATCH --nodes=1\n",
    "#SBATCH --ntasks=1                              # Number of tasks (processes)\n",
    "#SBATCH --time=3:00                           # Walltime\n",
    "#SBATCH --job-name=clase_python                 # Job name\n",
    "#SBATCH --output=%x_%j.out                      # Stdout (%x-jobName, %j-jobId)\n",
    "#SBATCH --error=%x_%j.err                       # Stderr (%x-jobName, %j-jobId)\n",
    "#SBATCH --mail-type=ALL                         # Mail notification\n",
    "#SBATCH --mail-user=lsalazarj@eafit.edu.co       # User Email\n",
    "\n",
    "\n",
    "##### ENVIRONMENT CREATION #####\n",
    "source activate biopython\n",
    "\n",
    "##### JOB COMMANDS #### \n",
    "python /home/lsalazarj/bicomp2025-1/covid19_seqs.py"
   ]
  },
  {
   "cell_type": "markdown",
   "metadata": {},
   "source": [
    "Guardamos este archivo y lo ejecutamos con el comando"
   ]
  },
  {
   "cell_type": "code",
   "execution_count": null,
   "metadata": {
    "vscode": {
     "languageId": "shellscript"
    }
   },
   "outputs": [],
   "source": [
    "sbatch slurm_covid19seq.sh "
   ]
  },
  {
   "cell_type": "markdown",
   "metadata": {},
   "source": [
    "Para ver si la lista de prioridades le damos"
   ]
  },
  {
   "cell_type": "code",
   "execution_count": null,
   "metadata": {
    "vscode": {
     "languageId": "shellscript"
    }
   },
   "outputs": [],
   "source": [
    "squeue"
   ]
  },
  {
   "cell_type": "markdown",
   "metadata": {},
   "source": [
    "Una vez el script termina de correr debe producir dos archivos: *.err* y *.out* que nos dan el output o los errores para generarlo"
   ]
  },
  {
   "attachments": {},
   "cell_type": "markdown",
   "metadata": {},
   "source": [
    "Para copiar los archivos desde Apolo al computador personal entre a la terminal del computador y copie el archivo con la ruta completa desde Apolo al directorio donde está (indicaod por \".\") o a otro directorio indicándole la ruta completa"
   ]
  },
  {
   "cell_type": "code",
   "execution_count": null,
   "metadata": {
    "vscode": {
     "languageId": "shellscript"
    }
   },
   "outputs": [],
   "source": [
    "scp lsalazarj@apolo.eafit.edu.co:/home/laura/biopython/covid19_seqs.py ."
   ]
  },
  {
   "cell_type": "markdown",
   "metadata": {},
   "source": [
    "### Ejemplo de bucles y condicionales\n",
    "\n",
    "Vamos a utilizar los bucles y condicionales para buscar el codón de inicio de transcripción para el genoma de covid19"
   ]
  },
  {
   "cell_type": "code",
   "execution_count": null,
   "metadata": {},
   "outputs": [],
   "source": [
    "# Define el codón de inicio\n",
    "start_codon = 'AUG'\n",
    "\n",
    "# Escanea la secuencia hasta encontrar el patrón\n",
    "for i in range(len(covid19_seq)):\n",
    "    if covid19_seq[i:i+3] == start_codon:\n",
    "        print('The start codon starts at index', i)\n",
    "        break\n",
    "else:\n",
    "    print('Codon not found in sequence.')"
   ]
  },
  {
   "attachments": {},
   "cell_type": "markdown",
   "metadata": {},
   "source": [
    "<div class=\"alert alert-block alert-info\">\n",
    "<b>Ejercicio</b> Escriba los comandos anteriores dentro de un script que busca el codón de inicio y ejecútelo vía otro script de *slurm*. Encontró el codón de inicio? </div>"
   ]
  },
  {
   "cell_type": "markdown",
   "metadata": {},
   "source": [
    "Si no lo encotró probablmente es porque faltó un paso intermedio: transcribir el codón de DNA a RNA. Esto lo podemos hacer utilizando la función de biopython ``transcribe()``"
   ]
  },
  {
   "cell_type": "code",
   "execution_count": null,
   "metadata": {},
   "outputs": [],
   "source": [
    "covid_mRNA = covid19_seq.transcribe()"
   ]
  },
  {
   "cell_type": "markdown",
   "metadata": {},
   "source": [
    "<div class=\"alert alert-block alert-info\">\n",
    "<b>Ejercicio</b> Vuelva a correr el script anterior para el RNA mensajero y verifique si la posición indicada si contiene el códon de inicio </div>"
   ]
  }
 ],
 "metadata": {
  "kernelspec": {
   "display_name": "Python 3 (ipykernel)",
   "language": "python",
   "name": "python3"
  },
  "language_info": {
   "codemirror_mode": {
    "name": "ipython",
    "version": 3
   },
   "file_extension": ".py",
   "mimetype": "text/x-python",
   "name": "python",
   "nbconvert_exporter": "python",
   "pygments_lexer": "ipython3",
   "version": "3.8.1"
  },
  "widgets": {
   "application/vnd.jupyter.widget-state+json": {
    "state": {},
    "version_major": 2,
    "version_minor": 0
   }
  }
 },
 "nbformat": 4,
 "nbformat_minor": 4
}
