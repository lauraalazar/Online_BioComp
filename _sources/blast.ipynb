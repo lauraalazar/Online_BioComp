{
 "cells": [
  {
   "attachments": {},
   "cell_type": "markdown",
   "metadata": {},
   "source": [
    "\n",
    "# Basic Local Alignment Search Tool (BLAST)\n",
    "\n",
    "La búsqueda de similitudes es un primer paso para encontrar  información útil sobre funcionalidad y/o ancestría. \n",
    "\n",
    "A la hora de buscar similitud en bases de datos extensas, los algoritmos de programación dinámica (como Needleman-Wunsch y Smith-Waterman) son ineficientes. Las herramientas mas eficientes son heurísticas: \"atajos\" algoritmicos que no producen una solición óptima global, pero que son mucho más rápidos y eficientes. Ahora vamos a realizar la búsqueda de las secuencias mas similares de todas las disponibles en la base de datos usando Basic Local Alignment Search Tool, BLAST  (Altschul et al. 1997; Altschul et al. 1990)\n"
   ]
  },
  {
   "cell_type": "markdown",
   "metadata": {},
   "source": [
    "## Repaso de conceptos clave de similitud\n",
    "\n",
    "- **Secuencias homólogas**: similitud por ancestría común\n",
    "- **Alineamiento** global vs local: ordenamiento de secuencias según similitud. **Global**: utiliza toda la secuencia. **Local**: utiliza los fragmentos más similares\n",
    "- **Secuencias conservadas**: aquellas que comparten nucleótidos o aminoacidos en la misma posición (opuesto en divergentes)\n",
    "- **Score**: parámetro que indica la calidad del alineamiento\n",
    "- **Dendograma** (Cladograma): hipótesis sobre relación evolutiva de secuencias"
   ]
  },
  {
   "cell_type": "markdown",
   "metadata": {},
   "source": [
    "<img src=\"newicktree.png\"/>"
   ]
  },
  {
   "cell_type": "markdown",
   "metadata": {},
   "source": [
    "Para este ejercicio, las accesiones de las secuencias fueron definidas. Ahora vamos a realizar la búsqueda de las secuencias mas similares de todas las disponibles en la base de datos usando Basic Local Alignment Search Tool, BLAST "
   ]
  },
  {
   "attachments": {},
   "cell_type": "markdown",
   "metadata": {},
   "source": [
    "Antes de realizar una búsqueda en BLAST, se genera un índice que consiste de *palabras* de una longitud *k*, las cuales se denominan **k-mers**. Éste índice se almacena en la memoria RAM del computador, así que BLAST puede ser muy rápido buscando estas palabras. Para inciarl un búsqueda por similitud, el algoritmo de BLAST primero busca en la secuencia consulta (*query*). usando la base de datos indexada, las secuencias que contengan un score alto de k-mers son escogidas. De allí se realiza un alineamiento local alreadedor de estos k-mers."
   ]
  },
  {
   "attachments": {},
   "cell_type": "markdown",
   "metadata": {},
   "source": [
    "<img src=\"blast_glossary-Image001.jpeg\"/>"
   ]
  },
  {
   "attachments": {},
   "cell_type": "markdown",
   "metadata": {
    "vscode": {
     "languageId": "shellscript"
    }
   },
   "source": [
    "### Tipos de BLAST\n",
    "\n",
    "De acuerdo a la búsqueda que necesitemos hay diferentes tipos de [blast](https://desmid.github.io/mview/manual/blast/blast2.html):\n",
    "\n",
    "- blastn: búsqueda de nucleótidos en base de datos de nucleótidos\n",
    "- blastp: búsqueda de proteína en base de datos de proteínas\n",
    "- blastx: búsqueda de nucleótidos en base de datos de proteínas, traduciendo la secuencia query en diferentes marcos de lectura \n",
    "- tblastn: búsqueda de proteínas en base de datos de nucleótidos, traduciendo los hit en diferentes marcos de lectura \n",
    "- tblastx: búsqueda de nucleótidos en base de datos de nucleótidos, traduciendo query y hit en diferentes marcos de lectura \n",
    "- psiblast: Position Specific Iterated-BLAST (PSI-BLAST) es basado en blastp pero utiliza los perfiles de conservación para hallar secuencias distantemente relacionadas\n"
   ]
  },
  {
   "cell_type": "markdown",
   "metadata": {},
   "source": [
    "### E-value (Expectation-values)\n",
    "\n",
    "Cuando realizamos una búsqueda por similitud, es importante identificar si la secuencia target es significativamente similar a la query. Es enste caso la significancia significa que el score del alineamiento (S)\n",
    " es mayor que uno esperado al azar. Un hit siempre va a tener algún tipo de similitud, y la probabilidad de encontrar un score alto aumenta con una secuencia query mas larga (m) y/o una base de datos mas grande (n). Para cuantificar la significancia de un hit, calculamos el E-value (E), que representa el número de hits esperados con un score mínimo de *S*, usando una secuencia query de longitud *m*, y una búsqueda aleatoria en una base de datos n: "
   ]
  },
  {
   "cell_type": "markdown",
   "metadata": {},
   "source": [
    "$$\n",
    " E = K * m *n * e^{lamda S}\n",
    "$$"
   ]
  },
  {
   "cell_type": "markdown",
   "metadata": {},
   "source": [
    " Algunas reglas no formales (\"rules of thumb\") que pueden servir como guía para considerar la significancia de los hit:\n",
    "\n",
    "- $E-value < 10e^{-100}$ Secuencias idénticas. Esperarías un alineamiento largo y completo entre la secuecnia de consulta y hit\n",
    "- $10e^{-50} < E-value < 10e^{-100}$ Secuencias casi idénticas. Esperarías un fragmento largo de alineamiento entre la secuecnia de consulta y hit\n",
    "- $10e^{-10} < E-value < 10e^{-50}$ Secuencias cercanas o un dominio\n",
    "- $1 < E-value < 10e^{-6}$ Podría ser un homólogo, pero es un área gris\n",
    "- $E-value > 1$ Las proteínas probablemente no están relacionados\n",
    "- $E-value > 10$ Los hits son irrelevantes o la secuencia consulta muy pequeña"
   ]
  },
  {
   "cell_type": "markdown",
   "metadata": {},
   "source": [
    "## Búsqueda de BLAST en la web\n",
    "\n",
    "Vamos a entrar a la página de BLAST del National Center for Biotechnology Information (NCBI),  una de las colecciones de bases de datos mas importantes. Contiene secuencias de DNA, proteínas, datos taxonómicos, publicaciones etc. Entre a https://blast.ncbi.nlm.nih.gov/Blast.cgi. Allí verá "
   ]
  },
  {
   "cell_type": "markdown",
   "metadata": {},
   "source": [
    "## Búsqueda de la espícula de SARS-CoV con BLAST\n",
    "\n",
    "Vamos a volver a las secuencias que habíamos descargado de SARS-CoV y a tomar la secuencia de la proteína de la espícula (\"glycoproteins\"). Vamos hacer un blast con ella para buscar secuencias homólogas. Que tipo de blast utilizaría?  "
   ]
  },
  {
   "cell_type": "markdown",
   "metadata": {},
   "source": [
    "Existen dos grandes plataformas que presetan el servicio:\n",
    "- NCBI: https://blast.ncbi.nlm.nih.gov/Blast.cgi\n",
    "- EBI: https://www.ebi.ac.uk/Tools/sss/\n",
    "\n",
    "Hoy vamos a trabajar con la de NCBI"
   ]
  },
  {
   "cell_type": "markdown",
   "metadata": {},
   "source": [
    "<div class=\"alert alert-block alert-info\">\n",
    "<b>Ejercicio de BLAST</b> Escoja a opción adecuada pegue la secuencia en el campo de la secuencia query. Blast contiene muchas opciones con buena documentiación. Escoja una (o experimente con varias) y luego presiones \"Blast\". Los resultados se pueden obtener en forma visual o tabulada. \n",
    "*Tip*: Excluya virus del SARS-CoV humano y constructos sintéticos porque estos saturan la búsqueda\n",
    " </div>"
   ]
  },
  {
   "cell_type": "markdown",
   "metadata": {},
   "source": [
    "Cuantos hits obutvo? Cuales son los rangos de E-values que obtuvo? Qué descripciones tienen las secuencias y a que hosperedos pertencen?"
   ]
  },
  {
   "attachments": {},
   "cell_type": "markdown",
   "metadata": {},
   "source": [
    "<div class=\"alert alert-block alert-info\">\n",
    "<b>Ejercicio Evaluable</b> \n",
    "\n",
    "  1) Descargue por lo menos 3 secuencias correspondientes a diferentes hospederos\n",
    "  2) Obtenga un alineamiento y un dendograma  (como lo hicimos al inicio) con la secuencia consulta y hits que obtuvo\n",
    "  3) Repita el ejercicio de Blast, esta vez con la secuencia de nucleótidos codificadores (cds)\n",
    "  2) Obtenga un alineamiento y un dendograma con los 3 mejores hits\n",
    "  3) Que diferencias observa con respecto al alineamiento de proteínas?\n",
    "  4) Escriba un breve reporte (una página) sobre las similitudes y diferencias \n",
    "  </div>"
   ]
  }
 ],
 "metadata": {
  "kernelspec": {
   "display_name": "Python 3 (ipykernel)",
   "language": "python",
   "name": "python3"
  },
  "language_info": {
   "codemirror_mode": {
    "name": "ipython",
    "version": 3
   },
   "file_extension": ".py",
   "mimetype": "text/x-python",
   "name": "python",
   "nbconvert_exporter": "python",
   "pygments_lexer": "ipython3",
   "version": "3.8.1"
  },
  "widgets": {
   "application/vnd.jupyter.widget-state+json": {
    "state": {},
    "version_major": 2,
    "version_minor": 0
   }
  }
 },
 "nbformat": 4,
 "nbformat_minor": 4
}
