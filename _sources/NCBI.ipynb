{
 "cells": [
  {
   "cell_type": "code",
   "execution_count": null,
   "metadata": {},
   "outputs": [],
   "source": [
    "# Archivos y Bases de datos\n"
   ]
  },
  {
   "cell_type": "markdown",
   "metadata": {},
   "source": [
    "## Tipos de archivos\n",
    "\n",
    "### Secuencias\n",
    "Existen diferente tipos de formatos para almacenar datos biólogicos, según su naturaleza. Estos formatos son formas estandarizadas que permiten codificar la información de manera simplificada. Muchos de estos formatos son en texto plano, y por lo tanto se pueden visualizar en editores como Notepad++ (Windows) o Sublime Text (Mac). Para el almacenamiento de secuencias se utilizan principalmente dos tipos de formato: FASTA y FASTQ\n",
    "\n",
    "<figure>\n",
    "<img src=\"fasta.png\" width=150 height=150 />"
   ]
  },
  {
   "cell_type": "markdown",
   "metadata": {},
   "source": [
    "### Metadata\n",
    "Otro tipo de archivos de datos importante son los *metadatos* que contienen información en forma de matriz, separados por *tab* (.tsv). Por ejemplo, la información taxonómica de un organismo o secuencia puede estar en forma tabulada\n",
    "\n",
    "<figure>\n",
    "<img src=\"metadata.png\" width=150 height=150 />"
   ]
  },
  {
   "cell_type": "markdown",
   "metadata": {},
   "source": [
    "## Bases de Datos\n",
    "\n",
    "### NCBI: búsqueda por explorador\n",
    "Primero vamos a explorar la base de datos de NCBI con \"clicks\" y después los haremos desde un script de python. The National Center for Biotechnology Information (NCBI) es una de las colecciones de bases de datos mas importantes. Contiene secuencias de DNA, proteínas, datos taxonómicos, publicaciones etc. Entre a https://www.ncbi.nlm.nih.gov/ y despliegue la pestaña \"All Databases\" para ver las opciones.\n",
    "\n",
    "\n",
    "<figure>\n",
    "<img src=\"ncbi.png\" width=150 height=150 />"
   ]
  },
  {
   "cell_type": "markdown",
   "metadata": {},
   "source": [
    "Escoja la base de datos \"Nucleotide\" y escriba en la barra \"Cytochrome B Homo sapiens\". De todos los registros, escoja uno, dándole click a la opción \"Fasta\""
   ]
  },
  {
   "cell_type": "markdown",
   "metadata": {},
   "source": [
    "\n",
    "### NCBI: búsqueda desde python\n",
    "\n",
    "Ahora vamos a realizar la búsqueda por ID desde python"
   ]
  },
  {
   "cell_type": "code",
   "execution_count": null,
   "metadata": {},
   "outputs": [],
   "source": [
    "from Bio import Entrez\n",
    "from Bio import SeqIO\n",
    "\n",
    "Entrez.email = \"lsalazar@eafit.edu.co\"\n",
    "\n",
    "with Entrez.efetch(\n",
    "    db=\"nucleotide\", rettype=\"fasta\", retmode=\"text\", id=\"AF254896.1\") as handle:\n",
    "    seq_record = SeqIO.read(handle, \"fasta\")\n",
    "\n",
    "print(seq_record)\n",
    "SeqIO.write(seq_record, \"homosapiens_cytb.fa\", \"fasta\")"
   ]
  }
 ],
 "metadata": {
  "language_info": {
   "name": "python"
  }
 },
 "nbformat": 4,
 "nbformat_minor": 2
}
