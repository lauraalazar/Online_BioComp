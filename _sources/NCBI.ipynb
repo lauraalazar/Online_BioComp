{
 "cells": [
  {
   "cell_type": "markdown",
   "metadata": {},
   "source": [
    "# Herraminetas de NCBI\n",
    "\n",
    "The National Center for Biotechnology Information (NCBI) es una de las colecciones de bases de datos mas importantes. Contiene secuencias de DNA, proteínas, datos taxonómicos, publicaciones etc. "
   ]
  },
  {
   "cell_type": "markdown",
   "metadata": {},
   "source": [
    "## Búsqueda de secuencais"
   ]
  },
  {
   "cell_type": "markdown",
   "metadata": {},
   "source": [
    "### Por explorador\n",
    "Primero vamos a explorar la base de datos de NCBI con \"clicks\" y después los haremos desde un script de python. Entre a https://www.ncbi.nlm.nih.gov/ y despliegue la pestaña \"All Databases\" para ver las opciones."
   ]
  },
  {
   "cell_type": "markdown",
   "metadata": {},
   "source": [
    "Escoja la base de datos \"Protein\" y escriba en la barra \"Cytochrome B Homo sapiens neanderthalensis\". Escoja la proteína de referencia (RefSeq Proteins) y copie el ID de esta proteína"
   ]
  },
  {
   "cell_type": "markdown",
   "metadata": {},
   "source": [
    "\n",
    "### Desde script de python\n",
    "\n",
    "Ahora vamos a realizar la búsqueda por ID desde python"
   ]
  },
  {
   "cell_type": "code",
   "execution_count": null,
   "metadata": {},
   "outputs": [],
   "source": [
    "#!/usr/local/bin/\n",
    "\n",
    "# Script por Laura Salazar Jaramillo\n",
    "# Busca la secuencia de proteinas del citocromo B de neanderthales\n",
    "\n",
    "\n",
    "from Bio import Entrez\n",
    "from Bio import SeqIO\n",
    "\n",
    "Entrez.email = \"lsalazar@eafit.edu.co\"\n",
    "\n",
    "with Entrez.efetch(\n",
    "    db=\"protein\", rettype=\"fasta\", retmode=\"text\", id=\"YP_002124314.2\") as handle:\n",
    "    seq_record = SeqIO.read(handle, \"fasta\")\n",
    "\n",
    "print(seq_record)\n",
    "SeqIO.write(seq_record, \"/home/lsalazarj/bicomp2024/ncbi_blast/hsneanderthal_cytb_prot.fa\", \"fasta\")"
   ]
  },
  {
   "cell_type": "markdown",
   "metadata": {},
   "source": [
    "## Basic Local Alignment Search Tool (BLAST)\n",
    "\n",
    "La búsqueda de similitudes es un primer paso para encontrar  información útil sobre funcionalidad y/o ancestría. \n",
    "\n",
    "A la hora de buscar similitud en bases de datos extensas, los algoritmos de programación dinámica (como Needleman-Wunsch y Smith-Waterman) son ineficientes. Las herramientas mas eficientes son heurísticas: \"atajos\" algoritmicos que no producen una solición óptima global, pero que son mucho más rápidos y eficientes, como BLAST (Altschul et al. 1997; Altschul et al. 1990).\n",
    "\n",
    "Por ejemplo, vamos a realizar la búsqueda de las secuencias mas similares de todas las disponibles en la base de datos usando BLAST.Estos algoritmos buscan alinear fragmentos cortos de una secuencia problema (*query*) a secuencias en una base de datos. El alineamiento inicial tiene un score T, y de allí se extiende a pequeños alineamientos vecinos. El alineamiento continúa mientras el T aumente. "
   ]
  },
  {
   "cell_type": "markdown",
   "metadata": {},
   "source": [
    "### Repaso de conceptos clave de similitud\n",
    "\n",
    "- **Secuencias homólogas**: similitud por ancestría común\n",
    "- **Alineamiento** global vs local: ordenamiento de secuencias según similitud. **Global**: utiliza toda la secuencia. **Local**: utiliza los fragmentos más similares\n",
    "- **Secuencias conservadas**: aquellas que comparten nucleótidos o aminoacidos en la misma posición (opuesto en divergentes)\n",
    "- **Score**: parámetro que indica la calidad del alineamiento\n",
    "- **Dendograma** (Cladograma): hipótesis sobre relación evolutiva de secuencias"
   ]
  },
  {
   "cell_type": "markdown",
   "metadata": {},
   "source": [
    "### E-value (Expectation-values)\n",
    "\n",
    "Cuando realizamos una búsqueda por similitud, es importante identificar si la secuencia target es significativamente similar a la query. Para esto se utiliza un valor de significancia que se define por el score del alineamiento (S), cuando éste \n",
    " es mayor que uno esperado al azar. Un hit siempre va a tener algún tipo de similitud, y la probabilidad de encontrar un score alto aumenta con una secuencia query mas larga (m) y/o una base de datos mas grande (n). Para cuantificar la significancia de un hit, calculamos el E-value (E), que representa el número de hits esperados con un score mínimo de *S*, usando una secuencia query de longitud *m*, y una búsqueda aleatoria en una base de datos n: "
   ]
  },
  {
   "cell_type": "markdown",
   "metadata": {},
   "source": [
    "$$\n",
    " E = K * m *n * e^{lamda S}\n",
    "$$"
   ]
  },
  {
   "cell_type": "markdown",
   "metadata": {},
   "source": [
    "## Tipos de BLAST\n",
    "\n",
    "### BLAST Por explorador\n",
    "Para una guía compelta sobre BLAST, consulte el [manual](https://www.ncbi.nlm.nih.gov/books/NBK1734/). \n",
    "Vamos a entrar a https://blast.ncbi.nlm.nih.gov/Blast.cgi. Hay varios tipos de programas BLAST, pero en términos generales, para bases de datos de proteínas se utiliza blastp y blastx, mientras que para nucleótidos se utiliza blastn.\n",
    "\n",
    "Vamos a buscar las proteínas homólogas al citocromo B que descargamos. "
   ]
  },
  {
   "cell_type": "markdown",
   "metadata": {},
   "source": [
    "1. Entre a https://blast.ncbi.nlm.nih.gov/Blast.cgi y escoja la opción \"Protein Blast\" (porque nuestra secuencia es una proteína)\n",
    "2. En la casilla en blanco pegue el fragmento de la secuencia descargada del Citocromo B de *H. sapiens neanderthalensis*\n",
    "3. Deje los parámetros por defecto y de click en \"BLAST\".\n",
    "4. El resultado tabular que aparece lista los mejores hits (de toda la base de datos, si no hubo filtros)\n",
    "5. En la pestaña \"Graphic Summary\" verá una representación gráfica del alineamiento, donde el color rojo  muestra los *matches*\n",
    "6. En la pestaña \"Alignment\" encontrará el alineamiento de la secuencia *query* (la que nosotros escogimos) con los mejores hits y la información del alineamiento"
   ]
  },
  {
   "cell_type": "markdown",
   "metadata": {},
   "source": [
    "### BLAST remoto desde la línea de comando\n",
    "\n",
    "Ahora vamos a realizar la búsqueda desde Apolo por medio de la línea de comando. Entre a Apolo y cargue el módulo de blast:"
   ]
  },
  {
   "cell_type": "code",
   "execution_count": null,
   "metadata": {
    "vscode": {
     "languageId": "shellscript"
    }
   },
   "outputs": [],
   "source": [
    "module load blast/2.13.0_gcc-11.2.0"
   ]
  },
  {
   "cell_type": "markdown",
   "metadata": {},
   "source": [
    "El comando para correr blast es (recuerde que debe estar dentro de un script slurm)"
   ]
  },
  {
   "cell_type": "code",
   "execution_count": null,
   "metadata": {
    "vscode": {
     "languageId": "shellscript"
    }
   },
   "outputs": [],
   "source": [
    "blastp -query homosapiens_cytb.fa -remote -db nr -out cytb_neander_nr.txt -evalue 1e-20 -max_target_seqs 10"
   ]
  },
  {
   "cell_type": "markdown",
   "metadata": {},
   "source": [
    "donde: \n",
    "- blastp: tipo de blast (proteínas en este caso)\n",
    "- query: la secuencia problema\n",
    "- remote: remota (de la web)\n",
    "- nr: no-redundante (las secuencias idénticas están presentes usa sola vez)\n",
    "- out: nombre del archivo de output\n",
    "- evalue: el máximo evalue \n",
    "- max_target_seqs: un máximo de secuencias para el putput"
   ]
  },
  {
   "cell_type": "markdown",
   "metadata": {},
   "source": [
    "### BLAST local\n",
    "\n",
    "Con frecuencia estamos interesados en comparar nuestra(s) secuencia(s) problema(s) contra una base de datos específica y mas pequeña. NCBI tiene una gran colección de bases de datos descargables, las cuales se pueden descargar desde ftp://ftp.ncbi.nlm.nih.gov/blast/db/. \n",
    "Por ejemplo, nosotros podemos comparar la secuencia de citocromo B de neanderthalensis contra la base de datos de secuencias de vertebrados que habíamos trabajado antes. Para eso vamos a copiar el archivo con dichas secuencias al directorio donde estamos trabajando (o le damos la ruta absoluta en el script). Para generar la base de datos, utilizamos el siguiente comando (recuerde que debe estar dentro de un script slurm)"
   ]
  },
  {
   "cell_type": "code",
   "execution_count": null,
   "metadata": {
    "vscode": {
     "languageId": "shellscript"
    }
   },
   "outputs": [],
   "source": [
    "makeblastdb -in CytBProt.txt -title cytb_vert -dbtype prot -out cytb -parse_seqids"
   ]
  },
  {
   "cell_type": "markdown",
   "metadata": {},
   "source": [
    "- in:  archivo de input utilizado para generar la base de datos\n",
    "- título: le da un título a la base de datos\n",
    "- dbtype: si es proteína (prot) o nucleótido (nucl)\n",
    "- out: Nombre de la base de datos\n",
    "- parse_seqids: retiene los nombre completos de las secuencias"
   ]
  },
  {
   "cell_type": "markdown",
   "metadata": {},
   "source": [
    "Observe el directorio donde se corrió el comando. Si fue exitoso, se crearon varios archivos con prefijo \"cytb\". Estos archivos son binarios (no son archivos de texto) y por lo tanto no se pueden inspeccionar. Ahora vamos a utilizar esta base de datos para alinear nuestra secuencia query:"
   ]
  },
  {
   "cell_type": "code",
   "execution_count": null,
   "metadata": {
    "vscode": {
     "languageId": "shellscript"
    }
   },
   "outputs": [],
   "source": [
    "blastp -query hsneanderthal_cytb_prot.fa -db cytb -out cytb_blastp_1e-30_table.txt -evalue 1e-30 -outfmt 6"
   ]
  },
  {
   "cell_type": "markdown",
   "metadata": {},
   "source": [
    "aquí la opción \"-outfmt 6\" indica el formato de output que queremos. Consulte la tabulación de este formato:\n",
    "https://www.metagenomics.wiki/tools/blast/blastn-output-format-6 y revise el output que obtuvo del blast. Cual es el procentaje de similitud de esta secuencia con humanos? Si no es 100%, cómo averiguaría donde están las diferencias? "
   ]
  },
  {
   "cell_type": "markdown",
   "metadata": {},
   "source": [
    "<div class=\"alert alert-block alert-info\">\n",
    "<b>Ejercicio</b> \n",
    "Supongamos que debemos diseñar unos primers para identificar H. neanderthalensis. Como somos humanos y nuestras secuencias son altamente similares, estos primers deben tener suficiente especificidad para discriminar entre las dos especies. Cómo identificaría una posición idóndea para diseñar los primers? Cómo verificaría que estos primers que diseño sí amplifiquen *H. neanderthalensis* (que tengan sensibilidad) pero no amplifiquen humans (especificidad). \n",
    "Puede diseñar los primers manualmente o ayudarse con la herramienta primerBlast: https://www.ncbi.nlm.nih.gov/tools/primer-blast/\n",
    "</div>"
   ]
  }
 ],
 "metadata": {
  "language_info": {
   "name": "python"
  }
 },
 "nbformat": 4,
 "nbformat_minor": 2
}
